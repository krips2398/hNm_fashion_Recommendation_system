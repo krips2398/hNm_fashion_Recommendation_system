{
 "cells": [
  {
   "cell_type": "code",
   "execution_count": 57,
   "id": "b6aa5b9e",
   "metadata": {},
   "outputs": [],
   "source": [
    "import pandas as pd\n",
    "import numpy as np\n",
    "import matplotlib.pyplot as plt\n",
    "import seaborn as sns\n",
    "import plotly.express as px"
   ]
  },
  {
   "cell_type": "markdown",
   "id": "e518dd09",
   "metadata": {},
   "source": [
    "https://www.kaggle.com/c/h-and-m-personalized-fashion-recommendations/data"
   ]
  },
  {
   "cell_type": "code",
   "execution_count": 3,
   "id": "33ae558d",
   "metadata": {},
   "outputs": [],
   "source": [
    "articles_df = pd.read_csv(\"../data/articles.csv\")"
   ]
  },
  {
   "cell_type": "code",
   "execution_count": 4,
   "id": "f0c32589",
   "metadata": {},
   "outputs": [
    {
     "data": {
      "text/plain": [
       "(105542, 25)"
      ]
     },
     "execution_count": 4,
     "metadata": {},
     "output_type": "execute_result"
    }
   ],
   "source": [
    "articles_df.shape"
   ]
  },
  {
   "cell_type": "code",
   "execution_count": 5,
   "id": "615649c6",
   "metadata": {},
   "outputs": [],
   "source": [
    "customers_df = pd.read_csv(\"../data/customers.csv\")"
   ]
  },
  {
   "cell_type": "code",
   "execution_count": 6,
   "id": "2c2969ed",
   "metadata": {},
   "outputs": [
    {
     "data": {
      "text/plain": [
       "(1371980, 7)"
      ]
     },
     "execution_count": 6,
     "metadata": {},
     "output_type": "execute_result"
    }
   ],
   "source": [
    "customers_df.shape"
   ]
  },
  {
   "cell_type": "code",
   "execution_count": 7,
   "id": "7e2c02c7",
   "metadata": {},
   "outputs": [
    {
     "data": {
      "text/plain": [
       "Index(['article_id', 'product_code', 'prod_name', 'product_type_no',\n",
       "       'product_type_name', 'product_group_name', 'graphical_appearance_no',\n",
       "       'graphical_appearance_name', 'colour_group_code', 'colour_group_name',\n",
       "       'perceived_colour_value_id', 'perceived_colour_value_name',\n",
       "       'perceived_colour_master_id', 'perceived_colour_master_name',\n",
       "       'department_no', 'department_name', 'index_code', 'index_name',\n",
       "       'index_group_no', 'index_group_name', 'section_no', 'section_name',\n",
       "       'garment_group_no', 'garment_group_name', 'detail_desc'],\n",
       "      dtype='object')"
      ]
     },
     "execution_count": 7,
     "metadata": {},
     "output_type": "execute_result"
    }
   ],
   "source": [
    "articles_df.columns"
   ]
  },
  {
   "cell_type": "code",
   "execution_count": 8,
   "id": "1a54d74a",
   "metadata": {},
   "outputs": [],
   "source": [
    "transactions_df = pd.read_csv(\"../data/transactions_train.csv\")"
   ]
  },
  {
   "cell_type": "code",
   "execution_count": 9,
   "id": "32d9b843",
   "metadata": {},
   "outputs": [
    {
     "data": {
      "text/plain": [
       "(31788324, 5)"
      ]
     },
     "execution_count": 9,
     "metadata": {},
     "output_type": "execute_result"
    }
   ],
   "source": [
    "transactions_df.shape"
   ]
  },
  {
   "cell_type": "code",
   "execution_count": 10,
   "id": "40cbe085",
   "metadata": {},
   "outputs": [
    {
     "data": {
      "text/html": [
       "<div>\n",
       "<style scoped>\n",
       "    .dataframe tbody tr th:only-of-type {\n",
       "        vertical-align: middle;\n",
       "    }\n",
       "\n",
       "    .dataframe tbody tr th {\n",
       "        vertical-align: top;\n",
       "    }\n",
       "\n",
       "    .dataframe thead th {\n",
       "        text-align: right;\n",
       "    }\n",
       "</style>\n",
       "<table border=\"1\" class=\"dataframe\">\n",
       "  <thead>\n",
       "    <tr style=\"text-align: right;\">\n",
       "      <th></th>\n",
       "      <th>article_id</th>\n",
       "      <th>product_code</th>\n",
       "      <th>prod_name</th>\n",
       "      <th>product_type_no</th>\n",
       "      <th>product_type_name</th>\n",
       "      <th>product_group_name</th>\n",
       "      <th>graphical_appearance_no</th>\n",
       "      <th>graphical_appearance_name</th>\n",
       "      <th>colour_group_code</th>\n",
       "      <th>colour_group_name</th>\n",
       "      <th>...</th>\n",
       "      <th>department_name</th>\n",
       "      <th>index_code</th>\n",
       "      <th>index_name</th>\n",
       "      <th>index_group_no</th>\n",
       "      <th>index_group_name</th>\n",
       "      <th>section_no</th>\n",
       "      <th>section_name</th>\n",
       "      <th>garment_group_no</th>\n",
       "      <th>garment_group_name</th>\n",
       "      <th>detail_desc</th>\n",
       "    </tr>\n",
       "  </thead>\n",
       "  <tbody>\n",
       "    <tr>\n",
       "      <th>103970</th>\n",
       "      <td>917434003</td>\n",
       "      <td>917434</td>\n",
       "      <td>Cyrilla tank top</td>\n",
       "      <td>253</td>\n",
       "      <td>Vest top</td>\n",
       "      <td>Garment Upper body</td>\n",
       "      <td>1010016</td>\n",
       "      <td>Solid</td>\n",
       "      <td>8</td>\n",
       "      <td>Dark Grey</td>\n",
       "      <td>...</td>\n",
       "      <td>Jersey</td>\n",
       "      <td>A</td>\n",
       "      <td>Ladieswear</td>\n",
       "      <td>1</td>\n",
       "      <td>Ladieswear</td>\n",
       "      <td>6</td>\n",
       "      <td>Womens Casual</td>\n",
       "      <td>1005</td>\n",
       "      <td>Jersey Fancy</td>\n",
       "      <td>Fitted vest top in ribbed cotton jersey with a...</td>\n",
       "    </tr>\n",
       "    <tr>\n",
       "      <th>105121</th>\n",
       "      <td>933373001</td>\n",
       "      <td>933373</td>\n",
       "      <td>Class Kant hoop</td>\n",
       "      <td>70</td>\n",
       "      <td>Earring</td>\n",
       "      <td>Accessories</td>\n",
       "      <td>1010016</td>\n",
       "      <td>Solid</td>\n",
       "      <td>5</td>\n",
       "      <td>Gold</td>\n",
       "      <td>...</td>\n",
       "      <td>Jewellery</td>\n",
       "      <td>C</td>\n",
       "      <td>Ladies Accessories</td>\n",
       "      <td>1</td>\n",
       "      <td>Ladieswear</td>\n",
       "      <td>66</td>\n",
       "      <td>Womens Small accessories</td>\n",
       "      <td>1019</td>\n",
       "      <td>Accessories</td>\n",
       "      <td>Hexagonal earrings. The zinc content of the ea...</td>\n",
       "    </tr>\n",
       "    <tr>\n",
       "      <th>43192</th>\n",
       "      <td>675689001</td>\n",
       "      <td>675689</td>\n",
       "      <td>Salvia shorts.</td>\n",
       "      <td>274</td>\n",
       "      <td>Shorts</td>\n",
       "      <td>Garment Lower body</td>\n",
       "      <td>1010016</td>\n",
       "      <td>Solid</td>\n",
       "      <td>9</td>\n",
       "      <td>Black</td>\n",
       "      <td>...</td>\n",
       "      <td>Basic 1</td>\n",
       "      <td>D</td>\n",
       "      <td>Divided</td>\n",
       "      <td>2</td>\n",
       "      <td>Divided</td>\n",
       "      <td>51</td>\n",
       "      <td>Divided Basics</td>\n",
       "      <td>1002</td>\n",
       "      <td>Jersey Basic</td>\n",
       "      <td>Short shorts in sweatshirt fabric with an elas...</td>\n",
       "    </tr>\n",
       "    <tr>\n",
       "      <th>14409</th>\n",
       "      <td>562702001</td>\n",
       "      <td>562702</td>\n",
       "      <td>KRISTOFF fancy polo</td>\n",
       "      <td>255</td>\n",
       "      <td>T-shirt</td>\n",
       "      <td>Garment Upper body</td>\n",
       "      <td>1010017</td>\n",
       "      <td>Stripe</td>\n",
       "      <td>73</td>\n",
       "      <td>Dark Blue</td>\n",
       "      <td>...</td>\n",
       "      <td>Young Boy Jersey Basic</td>\n",
       "      <td>I</td>\n",
       "      <td>Children Sizes 134-170</td>\n",
       "      <td>4</td>\n",
       "      <td>Baby/Children</td>\n",
       "      <td>72</td>\n",
       "      <td>Boys Underwear &amp; Basics</td>\n",
       "      <td>1002</td>\n",
       "      <td>Jersey Basic</td>\n",
       "      <td>Polo shirt in organic cotton jersey with a rib...</td>\n",
       "    </tr>\n",
       "    <tr>\n",
       "      <th>24002</th>\n",
       "      <td>607664003</td>\n",
       "      <td>607664</td>\n",
       "      <td>Carmen</td>\n",
       "      <td>258</td>\n",
       "      <td>Blouse</td>\n",
       "      <td>Garment Upper body</td>\n",
       "      <td>1010016</td>\n",
       "      <td>Solid</td>\n",
       "      <td>9</td>\n",
       "      <td>Black</td>\n",
       "      <td>...</td>\n",
       "      <td>Blouse</td>\n",
       "      <td>A</td>\n",
       "      <td>Ladieswear</td>\n",
       "      <td>1</td>\n",
       "      <td>Ladieswear</td>\n",
       "      <td>11</td>\n",
       "      <td>Womens Tailoring</td>\n",
       "      <td>1010</td>\n",
       "      <td>Blouses</td>\n",
       "      <td>Sleeveless blouse woven in a cotton blend with...</td>\n",
       "    </tr>\n",
       "  </tbody>\n",
       "</table>\n",
       "<p>5 rows × 25 columns</p>\n",
       "</div>"
      ],
      "text/plain": [
       "        article_id  product_code            prod_name  product_type_no  \\\n",
       "103970   917434003        917434     Cyrilla tank top              253   \n",
       "105121   933373001        933373      Class Kant hoop               70   \n",
       "43192    675689001        675689       Salvia shorts.              274   \n",
       "14409    562702001        562702  KRISTOFF fancy polo              255   \n",
       "24002    607664003        607664               Carmen              258   \n",
       "\n",
       "       product_type_name  product_group_name  graphical_appearance_no  \\\n",
       "103970          Vest top  Garment Upper body                  1010016   \n",
       "105121           Earring         Accessories                  1010016   \n",
       "43192             Shorts  Garment Lower body                  1010016   \n",
       "14409            T-shirt  Garment Upper body                  1010017   \n",
       "24002             Blouse  Garment Upper body                  1010016   \n",
       "\n",
       "       graphical_appearance_name  colour_group_code colour_group_name  ...  \\\n",
       "103970                     Solid                  8         Dark Grey  ...   \n",
       "105121                     Solid                  5              Gold  ...   \n",
       "43192                      Solid                  9             Black  ...   \n",
       "14409                     Stripe                 73         Dark Blue  ...   \n",
       "24002                      Solid                  9             Black  ...   \n",
       "\n",
       "               department_name index_code              index_name  \\\n",
       "103970                  Jersey          A              Ladieswear   \n",
       "105121               Jewellery          C      Ladies Accessories   \n",
       "43192                  Basic 1          D                 Divided   \n",
       "14409   Young Boy Jersey Basic          I  Children Sizes 134-170   \n",
       "24002                   Blouse          A              Ladieswear   \n",
       "\n",
       "       index_group_no  index_group_name section_no              section_name  \\\n",
       "103970              1        Ladieswear          6             Womens Casual   \n",
       "105121              1        Ladieswear         66  Womens Small accessories   \n",
       "43192               2           Divided         51            Divided Basics   \n",
       "14409               4     Baby/Children         72   Boys Underwear & Basics   \n",
       "24002               1        Ladieswear         11          Womens Tailoring   \n",
       "\n",
       "       garment_group_no  garment_group_name  \\\n",
       "103970             1005        Jersey Fancy   \n",
       "105121             1019         Accessories   \n",
       "43192              1002        Jersey Basic   \n",
       "14409              1002        Jersey Basic   \n",
       "24002              1010             Blouses   \n",
       "\n",
       "                                              detail_desc  \n",
       "103970  Fitted vest top in ribbed cotton jersey with a...  \n",
       "105121  Hexagonal earrings. The zinc content of the ea...  \n",
       "43192   Short shorts in sweatshirt fabric with an elas...  \n",
       "14409   Polo shirt in organic cotton jersey with a rib...  \n",
       "24002   Sleeveless blouse woven in a cotton blend with...  \n",
       "\n",
       "[5 rows x 25 columns]"
      ]
     },
     "execution_count": 10,
     "metadata": {},
     "output_type": "execute_result"
    }
   ],
   "source": [
    "articles_df.sample(n=5)"
   ]
  },
  {
   "cell_type": "code",
   "execution_count": 11,
   "id": "ab244340",
   "metadata": {},
   "outputs": [
    {
     "data": {
      "text/html": [
       "<div>\n",
       "<style scoped>\n",
       "    .dataframe tbody tr th:only-of-type {\n",
       "        vertical-align: middle;\n",
       "    }\n",
       "\n",
       "    .dataframe tbody tr th {\n",
       "        vertical-align: top;\n",
       "    }\n",
       "\n",
       "    .dataframe thead th {\n",
       "        text-align: right;\n",
       "    }\n",
       "</style>\n",
       "<table border=\"1\" class=\"dataframe\">\n",
       "  <thead>\n",
       "    <tr style=\"text-align: right;\">\n",
       "      <th></th>\n",
       "      <th>customer_id</th>\n",
       "      <th>FN</th>\n",
       "      <th>Active</th>\n",
       "      <th>club_member_status</th>\n",
       "      <th>fashion_news_frequency</th>\n",
       "      <th>age</th>\n",
       "      <th>postal_code</th>\n",
       "    </tr>\n",
       "  </thead>\n",
       "  <tbody>\n",
       "    <tr>\n",
       "      <th>1080734</th>\n",
       "      <td>c9a9c5c8b250d2fdf02cefb150c76fcded41bda6b58362...</td>\n",
       "      <td>NaN</td>\n",
       "      <td>NaN</td>\n",
       "      <td>ACTIVE</td>\n",
       "      <td>NONE</td>\n",
       "      <td>41.0</td>\n",
       "      <td>cf81833a5687bccabad6e0501c027e248651e462469133...</td>\n",
       "    </tr>\n",
       "    <tr>\n",
       "      <th>148204</th>\n",
       "      <td>1b9ec76c9ac15594749680b4271c484f133b184de3d6c2...</td>\n",
       "      <td>NaN</td>\n",
       "      <td>NaN</td>\n",
       "      <td>ACTIVE</td>\n",
       "      <td>NONE</td>\n",
       "      <td>53.0</td>\n",
       "      <td>9ef3ef5a8a4a8a375c049167128790b5cecec380617f8c...</td>\n",
       "    </tr>\n",
       "    <tr>\n",
       "      <th>353666</th>\n",
       "      <td>422346b9895c52212fc579a01c49c153d0c9acd0fc5f41...</td>\n",
       "      <td>NaN</td>\n",
       "      <td>NaN</td>\n",
       "      <td>ACTIVE</td>\n",
       "      <td>NONE</td>\n",
       "      <td>77.0</td>\n",
       "      <td>bb9abc4ac6da339046521c65df26d37cb280fe2d3ea080...</td>\n",
       "    </tr>\n",
       "    <tr>\n",
       "      <th>638447</th>\n",
       "      <td>7725b27ff2acdb164805605a2597320ab3337b1116c1ad...</td>\n",
       "      <td>1.0</td>\n",
       "      <td>1.0</td>\n",
       "      <td>ACTIVE</td>\n",
       "      <td>Regularly</td>\n",
       "      <td>27.0</td>\n",
       "      <td>fab0a120d1a06500e6e1059096d54f1eb730cfaa306d80...</td>\n",
       "    </tr>\n",
       "    <tr>\n",
       "      <th>290237</th>\n",
       "      <td>36325daf680cb8403b65b1edd62ba191c33dcc5e3993da...</td>\n",
       "      <td>NaN</td>\n",
       "      <td>NaN</td>\n",
       "      <td>ACTIVE</td>\n",
       "      <td>NONE</td>\n",
       "      <td>21.0</td>\n",
       "      <td>2c29ae653a9282cce4151bd87643c907644e09541abc28...</td>\n",
       "    </tr>\n",
       "  </tbody>\n",
       "</table>\n",
       "</div>"
      ],
      "text/plain": [
       "                                               customer_id   FN  Active  \\\n",
       "1080734  c9a9c5c8b250d2fdf02cefb150c76fcded41bda6b58362...  NaN     NaN   \n",
       "148204   1b9ec76c9ac15594749680b4271c484f133b184de3d6c2...  NaN     NaN   \n",
       "353666   422346b9895c52212fc579a01c49c153d0c9acd0fc5f41...  NaN     NaN   \n",
       "638447   7725b27ff2acdb164805605a2597320ab3337b1116c1ad...  1.0     1.0   \n",
       "290237   36325daf680cb8403b65b1edd62ba191c33dcc5e3993da...  NaN     NaN   \n",
       "\n",
       "        club_member_status fashion_news_frequency   age  \\\n",
       "1080734             ACTIVE                   NONE  41.0   \n",
       "148204              ACTIVE                   NONE  53.0   \n",
       "353666              ACTIVE                   NONE  77.0   \n",
       "638447              ACTIVE              Regularly  27.0   \n",
       "290237              ACTIVE                   NONE  21.0   \n",
       "\n",
       "                                               postal_code  \n",
       "1080734  cf81833a5687bccabad6e0501c027e248651e462469133...  \n",
       "148204   9ef3ef5a8a4a8a375c049167128790b5cecec380617f8c...  \n",
       "353666   bb9abc4ac6da339046521c65df26d37cb280fe2d3ea080...  \n",
       "638447   fab0a120d1a06500e6e1059096d54f1eb730cfaa306d80...  \n",
       "290237   2c29ae653a9282cce4151bd87643c907644e09541abc28...  "
      ]
     },
     "execution_count": 11,
     "metadata": {},
     "output_type": "execute_result"
    }
   ],
   "source": [
    "customers_df.sample(n=5)"
   ]
  },
  {
   "cell_type": "code",
   "execution_count": 12,
   "id": "8ce41fa1",
   "metadata": {},
   "outputs": [
    {
     "data": {
      "text/html": [
       "<div>\n",
       "<style scoped>\n",
       "    .dataframe tbody tr th:only-of-type {\n",
       "        vertical-align: middle;\n",
       "    }\n",
       "\n",
       "    .dataframe tbody tr th {\n",
       "        vertical-align: top;\n",
       "    }\n",
       "\n",
       "    .dataframe thead th {\n",
       "        text-align: right;\n",
       "    }\n",
       "</style>\n",
       "<table border=\"1\" class=\"dataframe\">\n",
       "  <thead>\n",
       "    <tr style=\"text-align: right;\">\n",
       "      <th></th>\n",
       "      <th>t_dat</th>\n",
       "      <th>customer_id</th>\n",
       "      <th>article_id</th>\n",
       "      <th>price</th>\n",
       "      <th>sales_channel_id</th>\n",
       "    </tr>\n",
       "  </thead>\n",
       "  <tbody>\n",
       "    <tr>\n",
       "      <th>7021422</th>\n",
       "      <td>2019-03-06</td>\n",
       "      <td>3abc8a7dc37add74bc57828b2430ff1d4bd8423cb80e40...</td>\n",
       "      <td>661147008</td>\n",
       "      <td>0.025407</td>\n",
       "      <td>2</td>\n",
       "    </tr>\n",
       "    <tr>\n",
       "      <th>28980149</th>\n",
       "      <td>2020-07-13</td>\n",
       "      <td>d570f3e2cfd4065a2a87734556fb9ab429fcfc2918c291...</td>\n",
       "      <td>857812007</td>\n",
       "      <td>0.022017</td>\n",
       "      <td>2</td>\n",
       "    </tr>\n",
       "    <tr>\n",
       "      <th>9013540</th>\n",
       "      <td>2019-04-20</td>\n",
       "      <td>0ec5c8fdf7b0c451ed08ae635a873a032bceb425f356c0...</td>\n",
       "      <td>697091007</td>\n",
       "      <td>0.033186</td>\n",
       "      <td>1</td>\n",
       "    </tr>\n",
       "    <tr>\n",
       "      <th>9349081</th>\n",
       "      <td>2019-04-25</td>\n",
       "      <td>fe2669db167fe2753cf1e4a309f2ab7442bca6bd33a857...</td>\n",
       "      <td>756633003</td>\n",
       "      <td>0.025407</td>\n",
       "      <td>1</td>\n",
       "    </tr>\n",
       "    <tr>\n",
       "      <th>25577427</th>\n",
       "      <td>2020-05-10</td>\n",
       "      <td>3182a862868e3853d079655ec813231b9dc0d421910046...</td>\n",
       "      <td>828251002</td>\n",
       "      <td>0.050831</td>\n",
       "      <td>2</td>\n",
       "    </tr>\n",
       "  </tbody>\n",
       "</table>\n",
       "</div>"
      ],
      "text/plain": [
       "               t_dat                                        customer_id  \\\n",
       "7021422   2019-03-06  3abc8a7dc37add74bc57828b2430ff1d4bd8423cb80e40...   \n",
       "28980149  2020-07-13  d570f3e2cfd4065a2a87734556fb9ab429fcfc2918c291...   \n",
       "9013540   2019-04-20  0ec5c8fdf7b0c451ed08ae635a873a032bceb425f356c0...   \n",
       "9349081   2019-04-25  fe2669db167fe2753cf1e4a309f2ab7442bca6bd33a857...   \n",
       "25577427  2020-05-10  3182a862868e3853d079655ec813231b9dc0d421910046...   \n",
       "\n",
       "          article_id     price  sales_channel_id  \n",
       "7021422    661147008  0.025407                 2  \n",
       "28980149   857812007  0.022017                 2  \n",
       "9013540    697091007  0.033186                 1  \n",
       "9349081    756633003  0.025407                 1  \n",
       "25577427   828251002  0.050831                 2  "
      ]
     },
     "execution_count": 12,
     "metadata": {},
     "output_type": "execute_result"
    }
   ],
   "source": [
    "transactions_df.sample(n=5)"
   ]
  },
  {
   "cell_type": "code",
   "execution_count": 13,
   "id": "e45f78db",
   "metadata": {},
   "outputs": [
    {
     "data": {
      "text/plain": [
       "'2018-09-20'"
      ]
     },
     "execution_count": 13,
     "metadata": {},
     "output_type": "execute_result"
    }
   ],
   "source": [
    "transactions_df['t_dat'].min()"
   ]
  },
  {
   "cell_type": "code",
   "execution_count": 14,
   "id": "0aa8db00",
   "metadata": {},
   "outputs": [
    {
     "data": {
      "text/plain": [
       "'2020-09-22'"
      ]
     },
     "execution_count": 14,
     "metadata": {},
     "output_type": "execute_result"
    }
   ],
   "source": [
    "transactions_df['t_dat'].max()"
   ]
  },
  {
   "cell_type": "code",
   "execution_count": 15,
   "id": "c993ca51",
   "metadata": {},
   "outputs": [
    {
     "data": {
      "text/html": [
       "<div>\n",
       "<style scoped>\n",
       "    .dataframe tbody tr th:only-of-type {\n",
       "        vertical-align: middle;\n",
       "    }\n",
       "\n",
       "    .dataframe tbody tr th {\n",
       "        vertical-align: top;\n",
       "    }\n",
       "\n",
       "    .dataframe thead th {\n",
       "        text-align: right;\n",
       "    }\n",
       "</style>\n",
       "<table border=\"1\" class=\"dataframe\">\n",
       "  <thead>\n",
       "    <tr style=\"text-align: right;\">\n",
       "      <th></th>\n",
       "      <th>t_dat</th>\n",
       "      <th>customer_id</th>\n",
       "      <th>article_id</th>\n",
       "      <th>price</th>\n",
       "      <th>sales_channel_id</th>\n",
       "    </tr>\n",
       "  </thead>\n",
       "  <tbody>\n",
       "    <tr>\n",
       "      <th>0</th>\n",
       "      <td>2018-09-20</td>\n",
       "      <td>000058a12d5b43e67d225668fa1f8d618c13dc232df0ca...</td>\n",
       "      <td>663713001</td>\n",
       "      <td>0.050831</td>\n",
       "      <td>2</td>\n",
       "    </tr>\n",
       "    <tr>\n",
       "      <th>1</th>\n",
       "      <td>2018-09-20</td>\n",
       "      <td>000058a12d5b43e67d225668fa1f8d618c13dc232df0ca...</td>\n",
       "      <td>541518023</td>\n",
       "      <td>0.030492</td>\n",
       "      <td>2</td>\n",
       "    </tr>\n",
       "    <tr>\n",
       "      <th>2</th>\n",
       "      <td>2018-09-20</td>\n",
       "      <td>00007d2de826758b65a93dd24ce629ed66842531df6699...</td>\n",
       "      <td>505221004</td>\n",
       "      <td>0.015237</td>\n",
       "      <td>2</td>\n",
       "    </tr>\n",
       "    <tr>\n",
       "      <th>3</th>\n",
       "      <td>2018-09-20</td>\n",
       "      <td>00007d2de826758b65a93dd24ce629ed66842531df6699...</td>\n",
       "      <td>685687003</td>\n",
       "      <td>0.016932</td>\n",
       "      <td>2</td>\n",
       "    </tr>\n",
       "    <tr>\n",
       "      <th>4</th>\n",
       "      <td>2018-09-20</td>\n",
       "      <td>00007d2de826758b65a93dd24ce629ed66842531df6699...</td>\n",
       "      <td>685687004</td>\n",
       "      <td>0.016932</td>\n",
       "      <td>2</td>\n",
       "    </tr>\n",
       "    <tr>\n",
       "      <th>5</th>\n",
       "      <td>2018-09-20</td>\n",
       "      <td>00007d2de826758b65a93dd24ce629ed66842531df6699...</td>\n",
       "      <td>685687001</td>\n",
       "      <td>0.016932</td>\n",
       "      <td>2</td>\n",
       "    </tr>\n",
       "    <tr>\n",
       "      <th>6</th>\n",
       "      <td>2018-09-20</td>\n",
       "      <td>00007d2de826758b65a93dd24ce629ed66842531df6699...</td>\n",
       "      <td>505221001</td>\n",
       "      <td>0.020322</td>\n",
       "      <td>2</td>\n",
       "    </tr>\n",
       "    <tr>\n",
       "      <th>7</th>\n",
       "      <td>2018-09-20</td>\n",
       "      <td>00083cda041544b2fbb0e0d2905ad17da7cf1007526fb4...</td>\n",
       "      <td>688873012</td>\n",
       "      <td>0.030492</td>\n",
       "      <td>1</td>\n",
       "    </tr>\n",
       "    <tr>\n",
       "      <th>8</th>\n",
       "      <td>2018-09-20</td>\n",
       "      <td>00083cda041544b2fbb0e0d2905ad17da7cf1007526fb4...</td>\n",
       "      <td>501323011</td>\n",
       "      <td>0.053373</td>\n",
       "      <td>1</td>\n",
       "    </tr>\n",
       "    <tr>\n",
       "      <th>9</th>\n",
       "      <td>2018-09-20</td>\n",
       "      <td>00083cda041544b2fbb0e0d2905ad17da7cf1007526fb4...</td>\n",
       "      <td>598859003</td>\n",
       "      <td>0.045746</td>\n",
       "      <td>2</td>\n",
       "    </tr>\n",
       "  </tbody>\n",
       "</table>\n",
       "</div>"
      ],
      "text/plain": [
       "        t_dat                                        customer_id  article_id  \\\n",
       "0  2018-09-20  000058a12d5b43e67d225668fa1f8d618c13dc232df0ca...   663713001   \n",
       "1  2018-09-20  000058a12d5b43e67d225668fa1f8d618c13dc232df0ca...   541518023   \n",
       "2  2018-09-20  00007d2de826758b65a93dd24ce629ed66842531df6699...   505221004   \n",
       "3  2018-09-20  00007d2de826758b65a93dd24ce629ed66842531df6699...   685687003   \n",
       "4  2018-09-20  00007d2de826758b65a93dd24ce629ed66842531df6699...   685687004   \n",
       "5  2018-09-20  00007d2de826758b65a93dd24ce629ed66842531df6699...   685687001   \n",
       "6  2018-09-20  00007d2de826758b65a93dd24ce629ed66842531df6699...   505221001   \n",
       "7  2018-09-20  00083cda041544b2fbb0e0d2905ad17da7cf1007526fb4...   688873012   \n",
       "8  2018-09-20  00083cda041544b2fbb0e0d2905ad17da7cf1007526fb4...   501323011   \n",
       "9  2018-09-20  00083cda041544b2fbb0e0d2905ad17da7cf1007526fb4...   598859003   \n",
       "\n",
       "      price  sales_channel_id  \n",
       "0  0.050831                 2  \n",
       "1  0.030492                 2  \n",
       "2  0.015237                 2  \n",
       "3  0.016932                 2  \n",
       "4  0.016932                 2  \n",
       "5  0.016932                 2  \n",
       "6  0.020322                 2  \n",
       "7  0.030492                 1  \n",
       "8  0.053373                 1  \n",
       "9  0.045746                 2  "
      ]
     },
     "execution_count": 15,
     "metadata": {},
     "output_type": "execute_result"
    }
   ],
   "source": [
    "transactions_df.head(n=10)"
   ]
  },
  {
   "cell_type": "code",
   "execution_count": 16,
   "id": "6b8e058a",
   "metadata": {},
   "outputs": [
    {
     "data": {
      "text/html": [
       "<div>\n",
       "<style scoped>\n",
       "    .dataframe tbody tr th:only-of-type {\n",
       "        vertical-align: middle;\n",
       "    }\n",
       "\n",
       "    .dataframe tbody tr th {\n",
       "        vertical-align: top;\n",
       "    }\n",
       "\n",
       "    .dataframe thead th {\n",
       "        text-align: right;\n",
       "    }\n",
       "</style>\n",
       "<table border=\"1\" class=\"dataframe\">\n",
       "  <thead>\n",
       "    <tr style=\"text-align: right;\">\n",
       "      <th></th>\n",
       "      <th>t_dat</th>\n",
       "      <th>customer_id</th>\n",
       "      <th>article_id</th>\n",
       "      <th>price</th>\n",
       "      <th>sales_channel_id</th>\n",
       "    </tr>\n",
       "  </thead>\n",
       "  <tbody>\n",
       "    <tr>\n",
       "      <th>31788314</th>\n",
       "      <td>2020-09-22</td>\n",
       "      <td>ffd4cf2217de4a0a3f9f610cdec334c803692a18af08ac...</td>\n",
       "      <td>701472004</td>\n",
       "      <td>0.010153</td>\n",
       "      <td>2</td>\n",
       "    </tr>\n",
       "    <tr>\n",
       "      <th>31788315</th>\n",
       "      <td>2020-09-22</td>\n",
       "      <td>ffd4cf2217de4a0a3f9f610cdec334c803692a18af08ac...</td>\n",
       "      <td>456163087</td>\n",
       "      <td>0.033881</td>\n",
       "      <td>2</td>\n",
       "    </tr>\n",
       "    <tr>\n",
       "      <th>31788316</th>\n",
       "      <td>2020-09-22</td>\n",
       "      <td>ffd4cf2217de4a0a3f9f610cdec334c803692a18af08ac...</td>\n",
       "      <td>832505003</td>\n",
       "      <td>0.025407</td>\n",
       "      <td>2</td>\n",
       "    </tr>\n",
       "    <tr>\n",
       "      <th>31788317</th>\n",
       "      <td>2020-09-22</td>\n",
       "      <td>ffd4cf2217de4a0a3f9f610cdec334c803692a18af08ac...</td>\n",
       "      <td>902288001</td>\n",
       "      <td>0.022017</td>\n",
       "      <td>2</td>\n",
       "    </tr>\n",
       "    <tr>\n",
       "      <th>31788318</th>\n",
       "      <td>2020-09-22</td>\n",
       "      <td>ffd4cf2217de4a0a3f9f610cdec334c803692a18af08ac...</td>\n",
       "      <td>856440002</td>\n",
       "      <td>0.042356</td>\n",
       "      <td>2</td>\n",
       "    </tr>\n",
       "    <tr>\n",
       "      <th>31788319</th>\n",
       "      <td>2020-09-22</td>\n",
       "      <td>fff2282977442e327b45d8c89afde25617d00124d0f999...</td>\n",
       "      <td>929511001</td>\n",
       "      <td>0.059305</td>\n",
       "      <td>2</td>\n",
       "    </tr>\n",
       "    <tr>\n",
       "      <th>31788320</th>\n",
       "      <td>2020-09-22</td>\n",
       "      <td>fff2282977442e327b45d8c89afde25617d00124d0f999...</td>\n",
       "      <td>891322004</td>\n",
       "      <td>0.042356</td>\n",
       "      <td>2</td>\n",
       "    </tr>\n",
       "    <tr>\n",
       "      <th>31788321</th>\n",
       "      <td>2020-09-22</td>\n",
       "      <td>fff380805474b287b05cb2a7507b9a013482f7dd0bce0e...</td>\n",
       "      <td>918325001</td>\n",
       "      <td>0.043203</td>\n",
       "      <td>1</td>\n",
       "    </tr>\n",
       "    <tr>\n",
       "      <th>31788322</th>\n",
       "      <td>2020-09-22</td>\n",
       "      <td>fff4d3a8b1f3b60af93e78c30a7cb4cf75edaf2590d3e5...</td>\n",
       "      <td>833459002</td>\n",
       "      <td>0.006763</td>\n",
       "      <td>1</td>\n",
       "    </tr>\n",
       "    <tr>\n",
       "      <th>31788323</th>\n",
       "      <td>2020-09-22</td>\n",
       "      <td>fffef3b6b73545df065b521e19f64bf6fe93bfd450ab20...</td>\n",
       "      <td>898573003</td>\n",
       "      <td>0.033881</td>\n",
       "      <td>2</td>\n",
       "    </tr>\n",
       "  </tbody>\n",
       "</table>\n",
       "</div>"
      ],
      "text/plain": [
       "               t_dat                                        customer_id  \\\n",
       "31788314  2020-09-22  ffd4cf2217de4a0a3f9f610cdec334c803692a18af08ac...   \n",
       "31788315  2020-09-22  ffd4cf2217de4a0a3f9f610cdec334c803692a18af08ac...   \n",
       "31788316  2020-09-22  ffd4cf2217de4a0a3f9f610cdec334c803692a18af08ac...   \n",
       "31788317  2020-09-22  ffd4cf2217de4a0a3f9f610cdec334c803692a18af08ac...   \n",
       "31788318  2020-09-22  ffd4cf2217de4a0a3f9f610cdec334c803692a18af08ac...   \n",
       "31788319  2020-09-22  fff2282977442e327b45d8c89afde25617d00124d0f999...   \n",
       "31788320  2020-09-22  fff2282977442e327b45d8c89afde25617d00124d0f999...   \n",
       "31788321  2020-09-22  fff380805474b287b05cb2a7507b9a013482f7dd0bce0e...   \n",
       "31788322  2020-09-22  fff4d3a8b1f3b60af93e78c30a7cb4cf75edaf2590d3e5...   \n",
       "31788323  2020-09-22  fffef3b6b73545df065b521e19f64bf6fe93bfd450ab20...   \n",
       "\n",
       "          article_id     price  sales_channel_id  \n",
       "31788314   701472004  0.010153                 2  \n",
       "31788315   456163087  0.033881                 2  \n",
       "31788316   832505003  0.025407                 2  \n",
       "31788317   902288001  0.022017                 2  \n",
       "31788318   856440002  0.042356                 2  \n",
       "31788319   929511001  0.059305                 2  \n",
       "31788320   891322004  0.042356                 2  \n",
       "31788321   918325001  0.043203                 1  \n",
       "31788322   833459002  0.006763                 1  \n",
       "31788323   898573003  0.033881                 2  "
      ]
     },
     "execution_count": 16,
     "metadata": {},
     "output_type": "execute_result"
    }
   ],
   "source": [
    "transactions_df.tail(n=10)"
   ]
  },
  {
   "cell_type": "code",
   "execution_count": 17,
   "id": "91f8233a",
   "metadata": {},
   "outputs": [
    {
     "data": {
      "text/plain": [
       "Index(['article_id', 'product_code', 'prod_name', 'product_type_no',\n",
       "       'product_type_name', 'product_group_name', 'graphical_appearance_no',\n",
       "       'graphical_appearance_name', 'colour_group_code', 'colour_group_name',\n",
       "       'perceived_colour_value_id', 'perceived_colour_value_name',\n",
       "       'perceived_colour_master_id', 'perceived_colour_master_name',\n",
       "       'department_no', 'department_name', 'index_code', 'index_name',\n",
       "       'index_group_no', 'index_group_name', 'section_no', 'section_name',\n",
       "       'garment_group_no', 'garment_group_name', 'detail_desc'],\n",
       "      dtype='object')"
      ]
     },
     "execution_count": 17,
     "metadata": {},
     "output_type": "execute_result"
    }
   ],
   "source": [
    "articles_df.columns"
   ]
  },
  {
   "cell_type": "code",
   "execution_count": 18,
   "id": "0ece7670",
   "metadata": {},
   "outputs": [
    {
     "data": {
      "text/plain": [
       "Dragonfly dress             98\n",
       "Mike tee                    72\n",
       "Wow printed tee 6.99        70\n",
       "1pk Fun                     55\n",
       "TP Paddington Sweater       54\n",
       "                            ..\n",
       "MIRISSA tank                 1\n",
       "Russ high top                1\n",
       "MAISY Tee 2-pack             1\n",
       "Co-lab Emma Jayne romper     1\n",
       "Katsu Trousers               1\n",
       "Name: prod_name, Length: 45875, dtype: int64"
      ]
     },
     "execution_count": 18,
     "metadata": {},
     "output_type": "execute_result"
    }
   ],
   "source": [
    "articles_df['prod_name'].value_counts()"
   ]
  },
  {
   "cell_type": "code",
   "execution_count": 19,
   "id": "4cc26536",
   "metadata": {},
   "outputs": [
    {
     "data": {
      "text/plain": [
       "45875"
      ]
     },
     "execution_count": 19,
     "metadata": {},
     "output_type": "execute_result"
    }
   ],
   "source": [
    "articles_df['prod_name'].nunique()"
   ]
  },
  {
   "cell_type": "markdown",
   "id": "ef63bd36",
   "metadata": {},
   "source": [
    "- There are almost 45875 unique products in the dataset"
   ]
  },
  {
   "cell_type": "code",
   "execution_count": 20,
   "id": "25496e56",
   "metadata": {},
   "outputs": [
    {
     "data": {
      "text/plain": [
       "19"
      ]
     },
     "execution_count": 20,
     "metadata": {},
     "output_type": "execute_result"
    }
   ],
   "source": [
    "articles_df['product_group_name'].nunique()"
   ]
  },
  {
   "cell_type": "code",
   "execution_count": 21,
   "id": "14ac2214",
   "metadata": {
    "scrolled": true
   },
   "outputs": [
    {
     "data": {
      "text/plain": [
       "Garment Upper body       42741\n",
       "Garment Lower body       19812\n",
       "Garment Full body        13292\n",
       "Accessories              11158\n",
       "Underwear                 5490\n",
       "Shoes                     5283\n",
       "Swimwear                  3127\n",
       "Socks & Tights            2442\n",
       "Nightwear                 1899\n",
       "Unknown                    121\n",
       "Underwear/nightwear         54\n",
       "Cosmetic                    49\n",
       "Bags                        25\n",
       "Items                       17\n",
       "Furniture                   13\n",
       "Garment and Shoe care        9\n",
       "Stationery                   5\n",
       "Interior textile             3\n",
       "Fun                          2\n",
       "Name: product_group_name, dtype: int64"
      ]
     },
     "execution_count": 21,
     "metadata": {},
     "output_type": "execute_result"
    }
   ],
   "source": [
    "articles_df['product_group_name'].value_counts()"
   ]
  },
  {
   "cell_type": "code",
   "execution_count": 22,
   "id": "498e815d",
   "metadata": {
    "scrolled": false
   },
   "outputs": [
    {
     "data": {
      "text/plain": [
       "[Text(0, 0, 'Garment Upper body'),\n",
       " Text(1, 0, 'Underwear'),\n",
       " Text(2, 0, 'Socks & Tights'),\n",
       " Text(3, 0, 'Garment Lower body'),\n",
       " Text(4, 0, 'Accessories'),\n",
       " Text(5, 0, 'Items'),\n",
       " Text(6, 0, 'Nightwear'),\n",
       " Text(7, 0, 'Unknown'),\n",
       " Text(8, 0, 'Underwear/nightwear'),\n",
       " Text(9, 0, 'Shoes'),\n",
       " Text(10, 0, 'Swimwear'),\n",
       " Text(11, 0, 'Garment Full body'),\n",
       " Text(12, 0, 'Cosmetic'),\n",
       " Text(13, 0, 'Interior textile'),\n",
       " Text(14, 0, 'Bags'),\n",
       " Text(15, 0, 'Furniture'),\n",
       " Text(16, 0, 'Garment and Shoe care'),\n",
       " Text(17, 0, 'Fun'),\n",
       " Text(18, 0, 'Stationery')]"
      ]
     },
     "execution_count": 22,
     "metadata": {},
     "output_type": "execute_result"
    },
    {
     "data": {
      "image/png": "[encoded data removed]",
      "text/plain": [
       "<Figure size 720x720 with 1 Axes>"
      ]
     },
     "metadata": {},
     "output_type": "display_data"
    }
   ],
   "source": [
    "sns.set(rc={'figure.figsize':(10,10)})\n",
    "ax = sns.countplot(x='product_group_name', data=articles_df)\n",
    "ax.set_xticklabels(ax.get_xticklabels(),rotation = 90)"
   ]
  },
  {
   "cell_type": "code",
   "execution_count": 23,
   "id": "2b7b7d63",
   "metadata": {},
   "outputs": [
    {
     "data": {
      "text/plain": [
       "[Text(0, 0, 'Black'),\n",
       " Text(1, 0, 'White'),\n",
       " Text(2, 0, 'Off White'),\n",
       " Text(3, 0, 'Light Beige'),\n",
       " Text(4, 0, 'Beige'),\n",
       " Text(5, 0, 'Grey'),\n",
       " Text(6, 0, 'Light Blue'),\n",
       " Text(7, 0, 'Light Grey'),\n",
       " Text(8, 0, 'Dark Blue'),\n",
       " Text(9, 0, 'Dark Grey'),\n",
       " Text(10, 0, 'Pink'),\n",
       " Text(11, 0, 'Dark Red'),\n",
       " Text(12, 0, 'Greyish Beige'),\n",
       " Text(13, 0, 'Light Orange'),\n",
       " Text(14, 0, 'Silver'),\n",
       " Text(15, 0, 'Gold'),\n",
       " Text(16, 0, 'Light Pink'),\n",
       " Text(17, 0, 'Dark Pink'),\n",
       " Text(18, 0, 'Yellowish Brown'),\n",
       " Text(19, 0, 'Blue'),\n",
       " Text(20, 0, 'Light Turquoise'),\n",
       " Text(21, 0, 'Yellow'),\n",
       " Text(22, 0, 'Greenish Khaki'),\n",
       " Text(23, 0, 'Dark Yellow'),\n",
       " Text(24, 0, 'Other Pink'),\n",
       " Text(25, 0, 'Dark Purple'),\n",
       " Text(26, 0, 'Red'),\n",
       " Text(27, 0, 'Transparent'),\n",
       " Text(28, 0, 'Dark Green'),\n",
       " Text(29, 0, 'Other Red'),\n",
       " Text(30, 0, 'Turquoise'),\n",
       " Text(31, 0, 'Dark Orange'),\n",
       " Text(32, 0, 'Other'),\n",
       " Text(33, 0, 'Orange'),\n",
       " Text(34, 0, 'Dark Beige'),\n",
       " Text(35, 0, 'Other Yellow'),\n",
       " Text(36, 0, 'Light Green'),\n",
       " Text(37, 0, 'Other Orange'),\n",
       " Text(38, 0, 'Purple'),\n",
       " Text(39, 0, 'Light Red'),\n",
       " Text(40, 0, 'Light Yellow'),\n",
       " Text(41, 0, 'Green'),\n",
       " Text(42, 0, 'Light Purple'),\n",
       " Text(43, 0, 'Dark Turquoise'),\n",
       " Text(44, 0, 'Other Purple'),\n",
       " Text(45, 0, 'Bronze/Copper'),\n",
       " Text(46, 0, 'Other Turquoise'),\n",
       " Text(47, 0, 'Other Green'),\n",
       " Text(48, 0, 'Other Blue'),\n",
       " Text(49, 0, 'Unknown')]"
      ]
     },
     "execution_count": 23,
     "metadata": {},
     "output_type": "execute_result"
    },
    {
     "data": {
      "image/png": "[encoded data removed]",
      "text/plain": [
       "<Figure size 720x720 with 1 Axes>"
      ]
     },
     "metadata": {},
     "output_type": "display_data"
    }
   ],
   "source": [
    "sns.set(rc={'figure.figsize':(10,10)})\n",
    "ax = sns.countplot(x='colour_group_name', data=articles_df)\n",
    "ax.set_xticklabels(ax.get_xticklabels(),rotation = 90)"
   ]
  },
  {
   "cell_type": "code",
   "execution_count": 24,
   "id": "32c37746",
   "metadata": {},
   "outputs": [
    {
     "data": {
      "text/plain": [
       "[Text(0, 0, 'Jersey Basic'),\n",
       " Text(1, 0, 'Under-, Nightwear'),\n",
       " Text(2, 0, 'Socks and Tights'),\n",
       " Text(3, 0, 'Jersey Fancy'),\n",
       " Text(4, 0, 'Accessories'),\n",
       " Text(5, 0, 'Trousers Denim'),\n",
       " Text(6, 0, 'Outdoor'),\n",
       " Text(7, 0, 'Shoes'),\n",
       " Text(8, 0, 'Swimwear'),\n",
       " Text(9, 0, 'Knitwear'),\n",
       " Text(10, 0, 'Shirts'),\n",
       " Text(11, 0, 'Trousers'),\n",
       " Text(12, 0, 'Dressed'),\n",
       " Text(13, 0, 'Shorts'),\n",
       " Text(14, 0, 'Dresses Ladies'),\n",
       " Text(15, 0, 'Skirts'),\n",
       " Text(16, 0, 'Special Offers'),\n",
       " Text(17, 0, 'Blouses'),\n",
       " Text(18, 0, 'Unknown'),\n",
       " Text(19, 0, 'Woven/Jersey/Knitted mix Baby'),\n",
       " Text(20, 0, 'Dresses/Skirts girls')]"
      ]
     },
     "execution_count": 24,
     "metadata": {},
     "output_type": "execute_result"
    },
    {
     "data": {
      "image/png": "[encoded data removed]",
      "text/plain": [
       "<Figure size 720x720 with 1 Axes>"
      ]
     },
     "metadata": {},
     "output_type": "display_data"
    }
   ],
   "source": [
    "sns.set(rc={'figure.figsize':(10,10)})\n",
    "ax = sns.countplot(x='garment_group_name', data=articles_df)\n",
    "ax.set_xticklabels(ax.get_xticklabels(),rotation = 90)"
   ]
  },
  {
   "cell_type": "code",
   "execution_count": 25,
   "id": "3264ec97",
   "metadata": {},
   "outputs": [
    {
     "data": {
      "text/plain": [
       "[Text(0, 0, 'Ladieswear'),\n",
       " Text(1, 0, 'Baby/Children'),\n",
       " Text(2, 0, 'Menswear'),\n",
       " Text(3, 0, 'Sport'),\n",
       " Text(4, 0, 'Divided')]"
      ]
     },
     "execution_count": 25,
     "metadata": {},
     "output_type": "execute_result"
    },
    {
     "data": {
      "image/png": "[encoded data removed]",
      "text/plain": [
       "<Figure size 720x720 with 1 Axes>"
      ]
     },
     "metadata": {},
     "output_type": "display_data"
    }
   ],
   "source": [
    "sns.set(rc={'figure.figsize':(10,10)})\n",
    "ax = sns.countplot(x='index_group_name', data=articles_df)\n",
    "ax.set_xticklabels(ax.get_xticklabels(),rotation = 90)"
   ]
  },
  {
   "cell_type": "code",
   "execution_count": 26,
   "id": "450dacc4",
   "metadata": {
    "scrolled": false
   },
   "outputs": [
    {
     "data": {
      "text/plain": [
       "T-shirt in printed cotton jersey.                                                                                                                                                                                  159\n",
       "Leggings in soft organic cotton jersey with an elasticated waist.                                                                                                                                                  138\n",
       "T-shirt in soft, printed cotton jersey.                                                                                                                                                                            137\n",
       "Socks in a soft, jacquard-knit cotton blend with elasticated tops.                                                                                                                                                 136\n",
       "Fine-knit trainer socks in a soft cotton blend with elasticated tops.                                                                                                                                              134\n",
       "                                                                                                                                                                                                                  ... \n",
       "Suit trousers in a wool weave with a regular waist, extended waistband with a concealed hook-and-eye fastener and zip fly. Side pockets, jetted back pockets and wide, straight legs.                                1\n",
       "Jacket in washed denim with hard-worn details, a collar and buttons down the front. Flap chest pockets with a button, side pockets, buttons at the cuffs and an adjustable tab at the sides of the hem.              1\n",
       "Twill trousers with a high waist, concealed hook-and-eye fastener and zip fly. Side pockets, welt back pockets and straight legs with slits at the hems for a gently flared effect.                                  1\n",
       "Short, ribbed sports top in fast-drying functional fabric with a racer back and elasticated hem. The sports top is designed with the minimum number of seams for a more comfortable fit and increased mobility.      1\n",
       "Fully lined bikini top with laser-cut scalloped edges, wide shoulder straps and an elasticated hem. No fasteners.                                                                                                    1\n",
       "Name: detail_desc, Length: 43404, dtype: int64"
      ]
     },
     "execution_count": 26,
     "metadata": {},
     "output_type": "execute_result"
    }
   ],
   "source": [
    "articles_df['detail_desc'].value_counts()"
   ]
  },
  {
   "cell_type": "code",
   "execution_count": 27,
   "id": "ca6ed105",
   "metadata": {},
   "outputs": [
    {
     "data": {
      "text/plain": [
       "(1371980, 7)"
      ]
     },
     "execution_count": 27,
     "metadata": {},
     "output_type": "execute_result"
    }
   ],
   "source": [
    "customers_df.shape"
   ]
  },
  {
   "cell_type": "code",
   "execution_count": 28,
   "id": "dcc2cac2",
   "metadata": {},
   "outputs": [
    {
     "data": {
      "text/html": [
       "<div>\n",
       "<style scoped>\n",
       "    .dataframe tbody tr th:only-of-type {\n",
       "        vertical-align: middle;\n",
       "    }\n",
       "\n",
       "    .dataframe tbody tr th {\n",
       "        vertical-align: top;\n",
       "    }\n",
       "\n",
       "    .dataframe thead th {\n",
       "        text-align: right;\n",
       "    }\n",
       "</style>\n",
       "<table border=\"1\" class=\"dataframe\">\n",
       "  <thead>\n",
       "    <tr style=\"text-align: right;\">\n",
       "      <th></th>\n",
       "      <th>customer_id</th>\n",
       "      <th>FN</th>\n",
       "      <th>Active</th>\n",
       "      <th>club_member_status</th>\n",
       "      <th>fashion_news_frequency</th>\n",
       "      <th>age</th>\n",
       "      <th>postal_code</th>\n",
       "    </tr>\n",
       "  </thead>\n",
       "  <tbody>\n",
       "    <tr>\n",
       "      <th>292168</th>\n",
       "      <td>36904f936f6c352bf883edf017e26ee7fb4061afe9ab3e...</td>\n",
       "      <td>1.0</td>\n",
       "      <td>1.0</td>\n",
       "      <td>ACTIVE</td>\n",
       "      <td>Regularly</td>\n",
       "      <td>21.0</td>\n",
       "      <td>3b0b9207ce5a308cb189b49eedecb024e8b7073f777b94...</td>\n",
       "    </tr>\n",
       "    <tr>\n",
       "      <th>154760</th>\n",
       "      <td>1cd5a8a0d40696311f36747f267932c1b0bf0177aa9545...</td>\n",
       "      <td>NaN</td>\n",
       "      <td>NaN</td>\n",
       "      <td>ACTIVE</td>\n",
       "      <td>NONE</td>\n",
       "      <td>43.0</td>\n",
       "      <td>2176807a06517e4165334435867feaf80eadaaa54adf47...</td>\n",
       "    </tr>\n",
       "    <tr>\n",
       "      <th>931366</th>\n",
       "      <td>adc314abbc148a7aa72a59d1dda8ea78276a9ea84600c9...</td>\n",
       "      <td>NaN</td>\n",
       "      <td>NaN</td>\n",
       "      <td>ACTIVE</td>\n",
       "      <td>NONE</td>\n",
       "      <td>25.0</td>\n",
       "      <td>9b7ff1c69a5023e85a11e5082971abb6218dda31ff8e2a...</td>\n",
       "    </tr>\n",
       "    <tr>\n",
       "      <th>326690</th>\n",
       "      <td>3d141c714d56aa31d6423a22b72f8c962ce3106aba6f00...</td>\n",
       "      <td>NaN</td>\n",
       "      <td>NaN</td>\n",
       "      <td>ACTIVE</td>\n",
       "      <td>NONE</td>\n",
       "      <td>33.0</td>\n",
       "      <td>031c9ad133c4f56d99242a747f18243a2fc290b54e73c1...</td>\n",
       "    </tr>\n",
       "    <tr>\n",
       "      <th>376630</th>\n",
       "      <td>466ee2f67aff9547e7a74a12405aaccdb057590155b993...</td>\n",
       "      <td>1.0</td>\n",
       "      <td>1.0</td>\n",
       "      <td>ACTIVE</td>\n",
       "      <td>Regularly</td>\n",
       "      <td>56.0</td>\n",
       "      <td>cab9c409bc1982c76f05e6be5bdeb6da3b50c9953b827d...</td>\n",
       "    </tr>\n",
       "    <tr>\n",
       "      <th>1354643</th>\n",
       "      <td>fcc1fdba5698307f0782e3bf40448372b6c574df408b3e...</td>\n",
       "      <td>NaN</td>\n",
       "      <td>NaN</td>\n",
       "      <td>ACTIVE</td>\n",
       "      <td>NONE</td>\n",
       "      <td>34.0</td>\n",
       "      <td>5256b9cdea13735c79b32949b5699ce150b51e969cde68...</td>\n",
       "    </tr>\n",
       "    <tr>\n",
       "      <th>112780</th>\n",
       "      <td>1504cb6a94a7b50ed0c52243248932e591e2c7efa1b3af...</td>\n",
       "      <td>NaN</td>\n",
       "      <td>NaN</td>\n",
       "      <td>ACTIVE</td>\n",
       "      <td>NONE</td>\n",
       "      <td>27.0</td>\n",
       "      <td>4a4e4afbd1ceb30c17a978e5377043d01963c644802c9e...</td>\n",
       "    </tr>\n",
       "    <tr>\n",
       "      <th>288118</th>\n",
       "      <td>35ce881977b0934e83d761cffcfa5c718d50a54d0fb267...</td>\n",
       "      <td>1.0</td>\n",
       "      <td>1.0</td>\n",
       "      <td>ACTIVE</td>\n",
       "      <td>Regularly</td>\n",
       "      <td>20.0</td>\n",
       "      <td>2d46b07367e58190f763c6309939f68fc73214617d1026...</td>\n",
       "    </tr>\n",
       "    <tr>\n",
       "      <th>317979</th>\n",
       "      <td>3b6dcd31f31e592201097f73d2b6b95d2a04d6c2a0688e...</td>\n",
       "      <td>1.0</td>\n",
       "      <td>1.0</td>\n",
       "      <td>ACTIVE</td>\n",
       "      <td>Regularly</td>\n",
       "      <td>21.0</td>\n",
       "      <td>210f2aa636b6e940f5c4e06e718647782b5f5cbe4c223d...</td>\n",
       "    </tr>\n",
       "    <tr>\n",
       "      <th>215535</th>\n",
       "      <td>2834a1421347b2156484a5f5f9e2f95edabd477d9abf31...</td>\n",
       "      <td>NaN</td>\n",
       "      <td>NaN</td>\n",
       "      <td>PRE-CREATE</td>\n",
       "      <td>NONE</td>\n",
       "      <td>NaN</td>\n",
       "      <td>adc54f0832c93e030e722dc5721f1b4f385244d7fdbcd8...</td>\n",
       "    </tr>\n",
       "  </tbody>\n",
       "</table>\n",
       "</div>"
      ],
      "text/plain": [
       "                                               customer_id   FN  Active  \\\n",
       "292168   36904f936f6c352bf883edf017e26ee7fb4061afe9ab3e...  1.0     1.0   \n",
       "154760   1cd5a8a0d40696311f36747f267932c1b0bf0177aa9545...  NaN     NaN   \n",
       "931366   adc314abbc148a7aa72a59d1dda8ea78276a9ea84600c9...  NaN     NaN   \n",
       "326690   3d141c714d56aa31d6423a22b72f8c962ce3106aba6f00...  NaN     NaN   \n",
       "376630   466ee2f67aff9547e7a74a12405aaccdb057590155b993...  1.0     1.0   \n",
       "1354643  fcc1fdba5698307f0782e3bf40448372b6c574df408b3e...  NaN     NaN   \n",
       "112780   1504cb6a94a7b50ed0c52243248932e591e2c7efa1b3af...  NaN     NaN   \n",
       "288118   35ce881977b0934e83d761cffcfa5c718d50a54d0fb267...  1.0     1.0   \n",
       "317979   3b6dcd31f31e592201097f73d2b6b95d2a04d6c2a0688e...  1.0     1.0   \n",
       "215535   2834a1421347b2156484a5f5f9e2f95edabd477d9abf31...  NaN     NaN   \n",
       "\n",
       "        club_member_status fashion_news_frequency   age  \\\n",
       "292168              ACTIVE              Regularly  21.0   \n",
       "154760              ACTIVE                   NONE  43.0   \n",
       "931366              ACTIVE                   NONE  25.0   \n",
       "326690              ACTIVE                   NONE  33.0   \n",
       "376630              ACTIVE              Regularly  56.0   \n",
       "1354643             ACTIVE                   NONE  34.0   \n",
       "112780              ACTIVE                   NONE  27.0   \n",
       "288118              ACTIVE              Regularly  20.0   \n",
       "317979              ACTIVE              Regularly  21.0   \n",
       "215535          PRE-CREATE                   NONE   NaN   \n",
       "\n",
       "                                               postal_code  \n",
       "292168   3b0b9207ce5a308cb189b49eedecb024e8b7073f777b94...  \n",
       "154760   2176807a06517e4165334435867feaf80eadaaa54adf47...  \n",
       "931366   9b7ff1c69a5023e85a11e5082971abb6218dda31ff8e2a...  \n",
       "326690   031c9ad133c4f56d99242a747f18243a2fc290b54e73c1...  \n",
       "376630   cab9c409bc1982c76f05e6be5bdeb6da3b50c9953b827d...  \n",
       "1354643  5256b9cdea13735c79b32949b5699ce150b51e969cde68...  \n",
       "112780   4a4e4afbd1ceb30c17a978e5377043d01963c644802c9e...  \n",
       "288118   2d46b07367e58190f763c6309939f68fc73214617d1026...  \n",
       "317979   210f2aa636b6e940f5c4e06e718647782b5f5cbe4c223d...  \n",
       "215535   adc54f0832c93e030e722dc5721f1b4f385244d7fdbcd8...  "
      ]
     },
     "execution_count": 28,
     "metadata": {},
     "output_type": "execute_result"
    }
   ],
   "source": [
    "customers_df.sample(n=10)"
   ]
  },
  {
   "cell_type": "code",
   "execution_count": 29,
   "id": "ad535bb4",
   "metadata": {},
   "outputs": [
    {
     "data": {
      "text/plain": [
       "[Text(0, 0, 'ACTIVE'), Text(1, 0, 'PRE-CREATE'), Text(2, 0, 'LEFT CLUB')]"
      ]
     },
     "execution_count": 29,
     "metadata": {},
     "output_type": "execute_result"
    },
    {
     "data": {
      "image/png": "[encoded data removed]",
      "text/plain": [
       "<Figure size 720x720 with 1 Axes>"
      ]
     },
     "metadata": {},
     "output_type": "display_data"
    }
   ],
   "source": [
    "sns.set(rc={'figure.figsize':(10,10)})\n",
    "ax = sns.countplot(x='club_member_status', data=customers_df)\n",
    "ax.set_xticklabels(ax.get_xticklabels(),rotation = 90)"
   ]
  },
  {
   "cell_type": "code",
   "execution_count": 30,
   "id": "40549ba0",
   "metadata": {},
   "outputs": [
    {
     "data": {
      "text/plain": [
       "ACTIVE        1272491\n",
       "PRE-CREATE      92960\n",
       "LEFT CLUB         467\n",
       "Name: club_member_status, dtype: int64"
      ]
     },
     "execution_count": 30,
     "metadata": {},
     "output_type": "execute_result"
    }
   ],
   "source": [
    "customers_df['club_member_status'].value_counts()"
   ]
  },
  {
   "cell_type": "markdown",
   "id": "3e0e84b7",
   "metadata": {},
   "source": [
    "- Most of them are active club members"
   ]
  },
  {
   "cell_type": "markdown",
   "id": "fef75ea8",
   "metadata": {},
   "source": [
    "- Exploring ages of the customers"
   ]
  },
  {
   "cell_type": "code",
   "execution_count": 31,
   "id": "28284f3b",
   "metadata": {},
   "outputs": [],
   "source": [
    "ages = customers_df[['age']]"
   ]
  },
  {
   "cell_type": "code",
   "execution_count": 32,
   "id": "93b75e29",
   "metadata": {},
   "outputs": [
    {
     "data": {
      "text/plain": [
       "Index(['age'], dtype='object')"
      ]
     },
     "execution_count": 32,
     "metadata": {},
     "output_type": "execute_result"
    }
   ],
   "source": [
    "ages.columns"
   ]
  },
  {
   "cell_type": "code",
   "execution_count": 33,
   "id": "a258223c",
   "metadata": {},
   "outputs": [
    {
     "data": {
      "text/plain": [
       "16.0"
      ]
     },
     "execution_count": 33,
     "metadata": {},
     "output_type": "execute_result"
    }
   ],
   "source": [
    "ages['age'].min()"
   ]
  },
  {
   "cell_type": "code",
   "execution_count": 34,
   "id": "20aadc6c",
   "metadata": {},
   "outputs": [
    {
     "name": "stderr",
     "output_type": "stream",
     "text": [
      "<ipython-input-34-9d5ad7920da3>:3: SettingWithCopyWarning: \n",
      "A value is trying to be set on a copy of a slice from a DataFrame.\n",
      "Try using .loc[row_indexer,col_indexer] = value instead\n",
      "\n",
      "See the caveats in the documentation: https://pandas.pydata.org/pandas-docs/stable/user_guide/indexing.html#returning-a-view-versus-a-copy\n",
      "  ages['age_range'] = pd.cut(ages.age, bins, labels = labels,include_lowest = True)\n"
     ]
    }
   ],
   "source": [
    "bins = [16, 30, 40, 50, 60, 70, 120]\n",
    "labels = ['16-29', '30-39', '40-49', '50-59', '60-69', '70+']\n",
    "ages['age_range'] = pd.cut(ages.age, bins, labels = labels,include_lowest = True)"
   ]
  },
  {
   "cell_type": "code",
   "execution_count": 35,
   "id": "c41a21be",
   "metadata": {},
   "outputs": [
    {
     "data": {
      "text/plain": [
       "[Text(0, 0, '16-29'),\n",
       " Text(1, 0, '30-39'),\n",
       " Text(2, 0, '40-49'),\n",
       " Text(3, 0, '50-59'),\n",
       " Text(4, 0, '60-69'),\n",
       " Text(5, 0, '70+')]"
      ]
     },
     "execution_count": 35,
     "metadata": {},
     "output_type": "execute_result"
    },
    {
     "data": {
      "image/png": "[encoded data removed]",
      "text/plain": [
       "<Figure size 720x720 with 1 Axes>"
      ]
     },
     "metadata": {},
     "output_type": "display_data"
    }
   ],
   "source": [
    "sns.set(rc={'figure.figsize':(10,10)})\n",
    "ax = sns.countplot(x='age_range', data=ages)\n",
    "ax.set_xticklabels(ax.get_xticklabels(),rotation = 90)"
   ]
  },
  {
   "cell_type": "markdown",
   "id": "53bb099c",
   "metadata": {},
   "source": [
    "- Highest number of customers are between 16-29 years of age"
   ]
  },
  {
   "cell_type": "code",
   "execution_count": 36,
   "id": "8b2ee285",
   "metadata": {},
   "outputs": [
    {
     "data": {
      "text/plain": [
       "NONE         877711\n",
       "Regularly    477416\n",
       "Monthly         842\n",
       "None              2\n",
       "Name: fashion_news_frequency, dtype: int64"
      ]
     },
     "execution_count": 36,
     "metadata": {},
     "output_type": "execute_result"
    }
   ],
   "source": [
    "customers_df['fashion_news_frequency'].value_counts()"
   ]
  },
  {
   "cell_type": "markdown",
   "id": "a160c014",
   "metadata": {},
   "source": [
    "- Label can be changed to None."
   ]
  },
  {
   "cell_type": "code",
   "execution_count": 37,
   "id": "611d612e",
   "metadata": {},
   "outputs": [
    {
     "data": {
      "text/plain": [
       "352899"
      ]
     },
     "execution_count": 37,
     "metadata": {},
     "output_type": "execute_result"
    }
   ],
   "source": [
    "customers_df['postal_code'].nunique()"
   ]
  },
  {
   "cell_type": "code",
   "execution_count": 38,
   "id": "0968d174",
   "metadata": {},
   "outputs": [
    {
     "data": {
      "text/plain": [
       "Index(['t_dat', 'customer_id', 'article_id', 'price', 'sales_channel_id'], dtype='object')"
      ]
     },
     "execution_count": 38,
     "metadata": {},
     "output_type": "execute_result"
    }
   ],
   "source": [
    "transactions_df.columns"
   ]
  },
  {
   "cell_type": "markdown",
   "id": "e36fdb48",
   "metadata": {},
   "source": [
    "- Let us calculate the number of products bought by each customer on average"
   ]
  },
  {
   "cell_type": "code",
   "execution_count": 39,
   "id": "88d2baf6",
   "metadata": {},
   "outputs": [],
   "source": [
    "number_of_prod = transactions_df.groupby(by='customer_id').agg({\"article_id\":\"count\"})"
   ]
  },
  {
   "cell_type": "code",
   "execution_count": 40,
   "id": "8e746a88",
   "metadata": {},
   "outputs": [
    {
     "data": {
      "text/plain": [
       "1362281"
      ]
     },
     "execution_count": 40,
     "metadata": {},
     "output_type": "execute_result"
    }
   ],
   "source": [
    "transactions_df['customer_id'].nunique()"
   ]
  },
  {
   "cell_type": "code",
   "execution_count": 41,
   "id": "8e75e0bb",
   "metadata": {},
   "outputs": [
    {
     "data": {
      "text/plain": [
       "(31788324, 5)"
      ]
     },
     "execution_count": 41,
     "metadata": {},
     "output_type": "execute_result"
    }
   ],
   "source": [
    "transactions_df.shape"
   ]
  },
  {
   "cell_type": "code",
   "execution_count": 42,
   "id": "e72d3dc8",
   "metadata": {},
   "outputs": [],
   "source": [
    "number_of_prod.reset_index(inplace=True)"
   ]
  },
  {
   "cell_type": "code",
   "execution_count": 43,
   "id": "0fc64328",
   "metadata": {},
   "outputs": [
    {
     "data": {
      "text/plain": [
       "customer_id    ffffd9ac14e89946416d80e791d064701994755c3ab686...\n",
       "article_id                                                  1895\n",
       "dtype: object"
      ]
     },
     "execution_count": 43,
     "metadata": {},
     "output_type": "execute_result"
    }
   ],
   "source": [
    "number_of_prod.max()"
   ]
  },
  {
   "cell_type": "code",
   "execution_count": 44,
   "id": "53d6c82b",
   "metadata": {},
   "outputs": [],
   "source": [
    "ages_df = customers_df.groupby(by=\"customer_id\").agg({\"age\":\"unique\"})"
   ]
  },
  {
   "cell_type": "code",
   "execution_count": 48,
   "id": "2560134f",
   "metadata": {},
   "outputs": [],
   "source": [
    "ages_df['age'] = ages_df['age'].apply(lambda x:x[0])"
   ]
  },
  {
   "cell_type": "code",
   "execution_count": 50,
   "id": "ea385fc7",
   "metadata": {},
   "outputs": [],
   "source": [
    "ages_df.reset_index(inplace=True)"
   ]
  },
  {
   "cell_type": "code",
   "execution_count": 51,
   "id": "70acb19b",
   "metadata": {},
   "outputs": [],
   "source": [
    "bins = [16, 30, 40, 50, 60, 70, 120]\n",
    "labels = ['16-29', '30-39', '40-49', '50-59', '60-69', '70+']\n",
    "ages_df['age_range'] = pd.cut(ages_df.age, bins, labels = labels,include_lowest = True)"
   ]
  },
  {
   "cell_type": "code",
   "execution_count": 53,
   "id": "4d366265",
   "metadata": {},
   "outputs": [],
   "source": [
    "age_prod_merge = pd.merge(ages_df,number_of_prod, left_on=['customer_id'],right_on=['customer_id'])"
   ]
  },
  {
   "cell_type": "code",
   "execution_count": 55,
   "id": "8385e4d1",
   "metadata": {},
   "outputs": [],
   "source": [
    "age_prod_merge.rename(columns={'article_id':'avg_no_of_products'},inplace=True)"
   ]
  },
  {
   "cell_type": "code",
   "execution_count": 58,
   "id": "b9dc7563",
   "metadata": {},
   "outputs": [
    {
     "data": {
      "text/plain": [
       "1"
      ]
     },
     "execution_count": 58,
     "metadata": {},
     "output_type": "execute_result"
    }
   ],
   "source": [
    "age_prod_merge['avg_no_of_products'].min()"
   ]
  },
  {
   "cell_type": "code",
   "execution_count": 59,
   "id": "061a0a2a",
   "metadata": {},
   "outputs": [
    {
     "data": {
      "text/plain": [
       "1895"
      ]
     },
     "execution_count": 59,
     "metadata": {},
     "output_type": "execute_result"
    }
   ],
   "source": [
    "age_prod_merge['avg_no_of_products'].max()"
   ]
  },
  {
   "cell_type": "code",
   "execution_count": 60,
   "id": "49c1d694",
   "metadata": {},
   "outputs": [
    {
     "name": "stderr",
     "output_type": "stream",
     "text": [
      "/Users/saikrupa/opt/anaconda3/lib/python3.8/site-packages/seaborn/distributions.py:2557: FutureWarning: `distplot` is a deprecated function and will be removed in a future version. Please adapt your code to use either `displot` (a figure-level function with similar flexibility) or `histplot` (an axes-level function for histograms).\n",
      "  warnings.warn(msg, FutureWarning)\n"
     ]
    },
    {
     "data": {
      "text/plain": [
       "<AxesSubplot:xlabel='avg_no_of_products'>"
      ]
     },
     "execution_count": 60,
     "metadata": {},
     "output_type": "execute_result"
    },
    {
     "data": {
      "image/png": "[encoded data removed]",
      "text/plain": [
       "<Figure size 720x720 with 1 Axes>"
      ]
     },
     "metadata": {},
     "output_type": "display_data"
    }
   ],
   "source": [
    "sns.distplot(a=age_prod_merge.avg_no_of_products, kde=False)"
   ]
  },
  {
   "cell_type": "code",
   "execution_count": null,
   "id": "2fc9f7b1",
   "metadata": {},
   "outputs": [],
   "source": []
  },
  {
   "cell_type": "code",
   "execution_count": 65,
   "id": "a0ea0143",
   "metadata": {},
   "outputs": [],
   "source": [
    "bins = [1, 5, 10, 20, 30, 40, 1895]\n",
    "labels = ['1-5', '5-10', '10-20', '20-30', '30-40', '50+']\n",
    "age_prod_merge['mean_no_prods'] = pd.cut(age_prod_merge.avg_no_of_products, bins, labels = labels,include_lowest = True)"
   ]
  },
  {
   "cell_type": "code",
   "execution_count": 66,
   "id": "b85b3f3e",
   "metadata": {},
   "outputs": [
    {
     "data": {
      "text/html": [
       "<div>\n",
       "<style scoped>\n",
       "    .dataframe tbody tr th:only-of-type {\n",
       "        vertical-align: middle;\n",
       "    }\n",
       "\n",
       "    .dataframe tbody tr th {\n",
       "        vertical-align: top;\n",
       "    }\n",
       "\n",
       "    .dataframe thead th {\n",
       "        text-align: right;\n",
       "    }\n",
       "</style>\n",
       "<table border=\"1\" class=\"dataframe\">\n",
       "  <thead>\n",
       "    <tr style=\"text-align: right;\">\n",
       "      <th></th>\n",
       "      <th>customer_id</th>\n",
       "      <th>age</th>\n",
       "      <th>age_range</th>\n",
       "      <th>avg_no_of_products</th>\n",
       "      <th>mean_no_prods</th>\n",
       "    </tr>\n",
       "  </thead>\n",
       "  <tbody>\n",
       "    <tr>\n",
       "      <th>0</th>\n",
       "      <td>00000dbacae5abe5e23885899a1fa44253a17956c6d1c3...</td>\n",
       "      <td>49.0</td>\n",
       "      <td>40-49</td>\n",
       "      <td>21</td>\n",
       "      <td>20-30</td>\n",
       "    </tr>\n",
       "    <tr>\n",
       "      <th>1</th>\n",
       "      <td>0000423b00ade91418cceaf3b26c6af3dd342b51fd051e...</td>\n",
       "      <td>25.0</td>\n",
       "      <td>16-29</td>\n",
       "      <td>86</td>\n",
       "      <td>50+</td>\n",
       "    </tr>\n",
       "    <tr>\n",
       "      <th>2</th>\n",
       "      <td>000058a12d5b43e67d225668fa1f8d618c13dc232df0ca...</td>\n",
       "      <td>24.0</td>\n",
       "      <td>16-29</td>\n",
       "      <td>18</td>\n",
       "      <td>10-20</td>\n",
       "    </tr>\n",
       "    <tr>\n",
       "      <th>3</th>\n",
       "      <td>00005ca1c9ed5f5146b52ac8639a40ca9d57aeff4d1bd2...</td>\n",
       "      <td>54.0</td>\n",
       "      <td>50-59</td>\n",
       "      <td>2</td>\n",
       "      <td>1-5</td>\n",
       "    </tr>\n",
       "    <tr>\n",
       "      <th>4</th>\n",
       "      <td>00006413d8573cd20ed7128e53b7b13819fe5cfc2d801f...</td>\n",
       "      <td>52.0</td>\n",
       "      <td>50-59</td>\n",
       "      <td>13</td>\n",
       "      <td>10-20</td>\n",
       "    </tr>\n",
       "    <tr>\n",
       "      <th>...</th>\n",
       "      <td>...</td>\n",
       "      <td>...</td>\n",
       "      <td>...</td>\n",
       "      <td>...</td>\n",
       "      <td>...</td>\n",
       "    </tr>\n",
       "    <tr>\n",
       "      <th>1362276</th>\n",
       "      <td>ffffbbf78b6eaac697a8a5dfbfd2bfa8113ee5b403e474...</td>\n",
       "      <td>24.0</td>\n",
       "      <td>16-29</td>\n",
       "      <td>51</td>\n",
       "      <td>50+</td>\n",
       "    </tr>\n",
       "    <tr>\n",
       "      <th>1362277</th>\n",
       "      <td>ffffcd5046a6143d29a04fb8c424ce494a76e5cdf4fab5...</td>\n",
       "      <td>21.0</td>\n",
       "      <td>16-29</td>\n",
       "      <td>84</td>\n",
       "      <td>50+</td>\n",
       "    </tr>\n",
       "    <tr>\n",
       "      <th>1362278</th>\n",
       "      <td>ffffcf35913a0bee60e8741cb2b4e78b8a98ee5ff2e6a1...</td>\n",
       "      <td>21.0</td>\n",
       "      <td>16-29</td>\n",
       "      <td>45</td>\n",
       "      <td>50+</td>\n",
       "    </tr>\n",
       "    <tr>\n",
       "      <th>1362279</th>\n",
       "      <td>ffffd7744cebcf3aca44ae7049d2a94b87074c3d4ffe38...</td>\n",
       "      <td>18.0</td>\n",
       "      <td>16-29</td>\n",
       "      <td>7</td>\n",
       "      <td>5-10</td>\n",
       "    </tr>\n",
       "    <tr>\n",
       "      <th>1362280</th>\n",
       "      <td>ffffd9ac14e89946416d80e791d064701994755c3ab686...</td>\n",
       "      <td>65.0</td>\n",
       "      <td>60-69</td>\n",
       "      <td>1</td>\n",
       "      <td>1-5</td>\n",
       "    </tr>\n",
       "  </tbody>\n",
       "</table>\n",
       "<p>1362281 rows × 5 columns</p>\n",
       "</div>"
      ],
      "text/plain": [
       "                                               customer_id   age age_range  \\\n",
       "0        00000dbacae5abe5e23885899a1fa44253a17956c6d1c3...  49.0     40-49   \n",
       "1        0000423b00ade91418cceaf3b26c6af3dd342b51fd051e...  25.0     16-29   \n",
       "2        000058a12d5b43e67d225668fa1f8d618c13dc232df0ca...  24.0     16-29   \n",
       "3        00005ca1c9ed5f5146b52ac8639a40ca9d57aeff4d1bd2...  54.0     50-59   \n",
       "4        00006413d8573cd20ed7128e53b7b13819fe5cfc2d801f...  52.0     50-59   \n",
       "...                                                    ...   ...       ...   \n",
       "1362276  ffffbbf78b6eaac697a8a5dfbfd2bfa8113ee5b403e474...  24.0     16-29   \n",
       "1362277  ffffcd5046a6143d29a04fb8c424ce494a76e5cdf4fab5...  21.0     16-29   \n",
       "1362278  ffffcf35913a0bee60e8741cb2b4e78b8a98ee5ff2e6a1...  21.0     16-29   \n",
       "1362279  ffffd7744cebcf3aca44ae7049d2a94b87074c3d4ffe38...  18.0     16-29   \n",
       "1362280  ffffd9ac14e89946416d80e791d064701994755c3ab686...  65.0     60-69   \n",
       "\n",
       "         avg_no_of_products mean_no_prods  \n",
       "0                        21         20-30  \n",
       "1                        86           50+  \n",
       "2                        18         10-20  \n",
       "3                         2           1-5  \n",
       "4                        13         10-20  \n",
       "...                     ...           ...  \n",
       "1362276                  51           50+  \n",
       "1362277                  84           50+  \n",
       "1362278                  45           50+  \n",
       "1362279                   7          5-10  \n",
       "1362280                   1           1-5  \n",
       "\n",
       "[1362281 rows x 5 columns]"
      ]
     },
     "execution_count": 66,
     "metadata": {},
     "output_type": "execute_result"
    }
   ],
   "source": [
    "age_prod_merge"
   ]
  },
  {
   "cell_type": "code",
   "execution_count": 69,
   "id": "371c1da2",
   "metadata": {},
   "outputs": [],
   "source": [
    "age_prod_merge.dropna(inplace=True)"
   ]
  },
  {
   "cell_type": "code",
   "execution_count": 71,
   "id": "daa3f94d",
   "metadata": {},
   "outputs": [
    {
     "data": {
      "application/vnd.plotly.v1+json": {
       "config": {
        "plotlyServerURL": "https://plot.ly"
       },
       "data": [
        {
         "branchvalues": "total",
         "customdata": [
          [
           "5-10"
          ],
          [
           "30-40"
          ],
          [
           "1-5"
          ],
          [
           "50+"
          ],
          [
           "(?)"
          ],
          [
           "(?)"
          ],
          [
           "5-10"
          ],
          [
           "5-10"
          ],
          [
           "5-10"
          ],
          [
           "20-30"
          ],
          [
           "10-20"
          ],
          [
           "10-20"
          ],
          [
           "10-20"
          ],
          [
           "30-40"
          ],
          [
           "10-20"
          ],
          [
           "30-40"
          ],
          [
           "50+"
          ],
          [
           "5-10"
          ],
          [
           "1-5"
          ],
          [
           "1-5"
          ],
          [
           "30-40"
          ],
          [
           "(?)"
          ],
          [
           "50+"
          ],
          [
           "1-5"
          ],
          [
           "(?)"
          ],
          [
           "30-40"
          ],
          [
           "10-20"
          ],
          [
           "20-30"
          ],
          [
           "1-5"
          ],
          [
           "20-30"
          ],
          [
           "50+"
          ],
          [
           "50+"
          ],
          [
           "20-30"
          ],
          [
           "50+"
          ],
          [
           "30-40"
          ],
          [
           "(?)"
          ],
          [
           "10-20"
          ],
          [
           "5-10"
          ],
          [
           "(?)"
          ],
          [
           "20-30"
          ],
          [
           "1-5"
          ],
          [
           "20-30"
          ]
         ],
         "domain": {
          "x": [
           0,
           1
          ],
          "y": [
           0,
           1
          ]
         },
         "hovertemplate": "labels=%{label}<br>avg_no_of_products=%{value}<br>parent=%{parent}<br>id=%{id}<br>mean_no_prods=%{customdata[0]}<extra></extra>",
         "ids": [
          "70+/5-10",
          "40-49/30-40",
          "50-59/1-5",
          "40-49/50+",
          "40-49",
          "16-29",
          "30-39/5-10",
          "40-49/5-10",
          "50-59/5-10",
          "60-69/20-30",
          "60-69/10-20",
          "30-39/10-20",
          "50-59/10-20",
          "50-59/30-40",
          "70+/10-20",
          "16-29/30-40",
          "70+/50+",
          "60-69/5-10",
          "60-69/1-5",
          "40-49/1-5",
          "70+/30-40",
          "50-59",
          "60-69/50+",
          "16-29/1-5",
          "70+",
          "30-39/30-40",
          "40-49/10-20",
          "70+/20-30",
          "70+/1-5",
          "16-29/20-30",
          "30-39/50+",
          "50-59/50+",
          "30-39/20-30",
          "16-29/50+",
          "60-69/30-40",
          "60-69",
          "16-29/10-20",
          "16-29/5-10",
          "30-39",
          "50-59/20-30",
          "30-39/1-5",
          "40-49/20-30"
         ],
         "labels": [
          "5-10",
          "30-40",
          "1-5",
          "50+",
          "40-49",
          "16-29",
          "5-10",
          "5-10",
          "5-10",
          "20-30",
          "10-20",
          "10-20",
          "10-20",
          "30-40",
          "10-20",
          "30-40",
          "50+",
          "5-10",
          "1-5",
          "1-5",
          "30-40",
          "50-59",
          "50+",
          "1-5",
          "70+",
          "30-40",
          "10-20",
          "20-30",
          "1-5",
          "20-30",
          "50+",
          "50+",
          "20-30",
          "50+",
          "30-40",
          "60-69",
          "10-20",
          "5-10",
          "30-39",
          "20-30",
          "1-5",
          "20-30"
         ],
         "marker": {
          "colors": [
           "#636efa",
           "#EF553B",
           "#00cc96",
           "#ab63fa",
           "#FFA15A",
           "#FFA15A",
           "#636efa",
           "#636efa",
           "#636efa",
           "#19d3f3",
           "#FF6692",
           "#FF6692",
           "#FF6692",
           "#EF553B",
           "#FF6692",
           "#EF553B",
           "#ab63fa",
           "#636efa",
           "#00cc96",
           "#00cc96",
           "#EF553B",
           "#FFA15A",
           "#ab63fa",
           "#00cc96",
           "#FFA15A",
           "#EF553B",
           "#FF6692",
           "#19d3f3",
           "#00cc96",
           "#19d3f3",
           "#ab63fa",
           "#ab63fa",
           "#19d3f3",
           "#ab63fa",
           "#EF553B",
           "#FFA15A",
           "#FF6692",
           "#636efa",
           "#FFA15A",
           "#19d3f3",
           "#00cc96",
           "#19d3f3"
          ]
         },
         "name": "",
         "parents": [
          "70+",
          "40-49",
          "50-59",
          "40-49",
          "",
          "",
          "30-39",
          "40-49",
          "50-59",
          "60-69",
          "60-69",
          "30-39",
          "50-59",
          "50-59",
          "70+",
          "16-29",
          "70+",
          "60-69",
          "60-69",
          "40-49",
          "70+",
          "",
          "60-69",
          "16-29",
          "",
          "30-39",
          "40-49",
          "70+",
          "70+",
          "16-29",
          "30-39",
          "50-59",
          "30-39",
          "16-29",
          "60-69",
          "",
          "16-29",
          "16-29",
          "",
          "50-59",
          "30-39",
          "40-49"
         ],
         "type": "treemap",
         "values": [
          17159,
          432572,
          208175,
          3315706,
          5215137,
          14933279,
          270478,
          276470,
          260040,
          106379,
          128573,
          498257,
          495442,
          413059,
          26762,
          1354365,
          77259,
          77475,
          76445,
          210731,
          15535,
          4680033,
          536249,
          589816,
          177696,
          422606,
          508387,
          19262,
          21719,
          1503216,
          3783637,
          2845335,
          459406,
          9134844,
          87601,
          1012722,
          1574644,
          776394,
          5629199,
          457982,
          194815,
          471271
         ]
        }
       ],
       "layout": {
        "legend": {
         "tracegroupgap": 0
        },
        "margin": {
         "b": 25,
         "l": 25,
         "r": 25,
         "t": 50
        },
        "template": {
         "data": {
          "bar": [
           {
            "error_x": {
             "color": "#2a3f5f"
            },
            "error_y": {
             "color": "#2a3f5f"
            },
            "marker": {
             "line": {
              "color": "#E5ECF6",
              "width": 0.5
             }
            },
            "type": "bar"
           }
          ],
          "barpolar": [
           {
            "marker": {
             "line": {
              "color": "#E5ECF6",
              "width": 0.5
             }
            },
            "type": "barpolar"
           }
          ],
          "carpet": [
           {
            "aaxis": {
             "endlinecolor": "#2a3f5f",
             "gridcolor": "white",
             "linecolor": "white",
             "minorgridcolor": "white",
             "startlinecolor": "#2a3f5f"
            },
            "baxis": {
             "endlinecolor": "#2a3f5f",
             "gridcolor": "white",
             "linecolor": "white",
             "minorgridcolor": "white",
             "startlinecolor": "#2a3f5f"
            },
            "type": "carpet"
           }
          ],
          "choropleth": [
           {
            "colorbar": {
             "outlinewidth": 0,
             "ticks": ""
            },
            "type": "choropleth"
           }
          ],
          "contour": [
           {
            "colorbar": {
             "outlinewidth": 0,
             "ticks": ""
            },
            "colorscale": [
             [
              0,
              "#0d0887"
             ],
             [
              0.1111111111111111,
              "#46039f"
             ],
             [
              0.2222222222222222,
              "#7201a8"
             ],
             [
              0.3333333333333333,
              "#9c179e"
             ],
             [
              0.4444444444444444,
              "#bd3786"
             ],
             [
              0.5555555555555556,
              "#d8576b"
             ],
             [
              0.6666666666666666,
              "#ed7953"
             ],
             [
              0.7777777777777778,
              "#fb9f3a"
             ],
             [
              0.8888888888888888,
              "#fdca26"
             ],
             [
              1,
              "#f0f921"
             ]
            ],
            "type": "contour"
           }
          ],
          "contourcarpet": [
           {
            "colorbar": {
             "outlinewidth": 0,
             "ticks": ""
            },
            "type": "contourcarpet"
           }
          ],
          "heatmap": [
           {
            "colorbar": {
             "outlinewidth": 0,
             "ticks": ""
            },
            "colorscale": [
             [
              0,
              "#0d0887"
             ],
             [
              0.1111111111111111,
              "#46039f"
             ],
             [
              0.2222222222222222,
              "#7201a8"
             ],
             [
              0.3333333333333333,
              "#9c179e"
             ],
             [
              0.4444444444444444,
              "#bd3786"
             ],
             [
              0.5555555555555556,
              "#d8576b"
             ],
             [
              0.6666666666666666,
              "#ed7953"
             ],
             [
              0.7777777777777778,
              "#fb9f3a"
             ],
             [
              0.8888888888888888,
              "#fdca26"
             ],
             [
              1,
              "#f0f921"
             ]
            ],
            "type": "heatmap"
           }
          ],
          "heatmapgl": [
           {
            "colorbar": {
             "outlinewidth": 0,
             "ticks": ""
            },
            "colorscale": [
             [
              0,
              "#0d0887"
             ],
             [
              0.1111111111111111,
              "#46039f"
             ],
             [
              0.2222222222222222,
              "#7201a8"
             ],
             [
              0.3333333333333333,
              "#9c179e"
             ],
             [
              0.4444444444444444,
              "#bd3786"
             ],
             [
              0.5555555555555556,
              "#d8576b"
             ],
             [
              0.6666666666666666,
              "#ed7953"
             ],
             [
              0.7777777777777778,
              "#fb9f3a"
             ],
             [
              0.8888888888888888,
              "#fdca26"
             ],
             [
              1,
              "#f0f921"
             ]
            ],
            "type": "heatmapgl"
           }
          ],
          "histogram": [
           {
            "marker": {
             "colorbar": {
              "outlinewidth": 0,
              "ticks": ""
             }
            },
            "type": "histogram"
           }
          ],
          "histogram2d": [
           {
            "colorbar": {
             "outlinewidth": 0,
             "ticks": ""
            },
            "colorscale": [
             [
              0,
              "#0d0887"
             ],
             [
              0.1111111111111111,
              "#46039f"
             ],
             [
              0.2222222222222222,
              "#7201a8"
             ],
             [
              0.3333333333333333,
              "#9c179e"
             ],
             [
              0.4444444444444444,
              "#bd3786"
             ],
             [
              0.5555555555555556,
              "#d8576b"
             ],
             [
              0.6666666666666666,
              "#ed7953"
             ],
             [
              0.7777777777777778,
              "#fb9f3a"
             ],
             [
              0.8888888888888888,
              "#fdca26"
             ],
             [
              1,
              "#f0f921"
             ]
            ],
            "type": "histogram2d"
           }
          ],
          "histogram2dcontour": [
           {
            "colorbar": {
             "outlinewidth": 0,
             "ticks": ""
            },
            "colorscale": [
             [
              0,
              "#0d0887"
             ],
             [
              0.1111111111111111,
              "#46039f"
             ],
             [
              0.2222222222222222,
              "#7201a8"
             ],
             [
              0.3333333333333333,
              "#9c179e"
             ],
             [
              0.4444444444444444,
              "#bd3786"
             ],
             [
              0.5555555555555556,
              "#d8576b"
             ],
             [
              0.6666666666666666,
              "#ed7953"
             ],
             [
              0.7777777777777778,
              "#fb9f3a"
             ],
             [
              0.8888888888888888,
              "#fdca26"
             ],
             [
              1,
              "#f0f921"
             ]
            ],
            "type": "histogram2dcontour"
           }
          ],
          "mesh3d": [
           {
            "colorbar": {
             "outlinewidth": 0,
             "ticks": ""
            },
            "type": "mesh3d"
           }
          ],
          "parcoords": [
           {
            "line": {
             "colorbar": {
              "outlinewidth": 0,
              "ticks": ""
             }
            },
            "type": "parcoords"
           }
          ],
          "pie": [
           {
            "automargin": true,
            "type": "pie"
           }
          ],
          "scatter": [
           {
            "marker": {
             "colorbar": {
              "outlinewidth": 0,
              "ticks": ""
             }
            },
            "type": "scatter"
           }
          ],
          "scatter3d": [
           {
            "line": {
             "colorbar": {
              "outlinewidth": 0,
              "ticks": ""
             }
            },
            "marker": {
             "colorbar": {
              "outlinewidth": 0,
              "ticks": ""
             }
            },
            "type": "scatter3d"
           }
          ],
          "scattercarpet": [
           {
            "marker": {
             "colorbar": {
              "outlinewidth": 0,
              "ticks": ""
             }
            },
            "type": "scattercarpet"
           }
          ],
          "scattergeo": [
           {
            "marker": {
             "colorbar": {
              "outlinewidth": 0,
              "ticks": ""
             }
            },
            "type": "scattergeo"
           }
          ],
          "scattergl": [
           {
            "marker": {
             "colorbar": {
              "outlinewidth": 0,
              "ticks": ""
             }
            },
            "type": "scattergl"
           }
          ],
          "scattermapbox": [
           {
            "marker": {
             "colorbar": {
              "outlinewidth": 0,
              "ticks": ""
             }
            },
            "type": "scattermapbox"
           }
          ],
          "scatterpolar": [
           {
            "marker": {
             "colorbar": {
              "outlinewidth": 0,
              "ticks": ""
             }
            },
            "type": "scatterpolar"
           }
          ],
          "scatterpolargl": [
           {
            "marker": {
             "colorbar": {
              "outlinewidth": 0,
              "ticks": ""
             }
            },
            "type": "scatterpolargl"
           }
          ],
          "scatterternary": [
           {
            "marker": {
             "colorbar": {
              "outlinewidth": 0,
              "ticks": ""
             }
            },
            "type": "scatterternary"
           }
          ],
          "surface": [
           {
            "colorbar": {
             "outlinewidth": 0,
             "ticks": ""
            },
            "colorscale": [
             [
              0,
              "#0d0887"
             ],
             [
              0.1111111111111111,
              "#46039f"
             ],
             [
              0.2222222222222222,
              "#7201a8"
             ],
             [
              0.3333333333333333,
              "#9c179e"
             ],
             [
              0.4444444444444444,
              "#bd3786"
             ],
             [
              0.5555555555555556,
              "#d8576b"
             ],
             [
              0.6666666666666666,
              "#ed7953"
             ],
             [
              0.7777777777777778,
              "#fb9f3a"
             ],
             [
              0.8888888888888888,
              "#fdca26"
             ],
             [
              1,
              "#f0f921"
             ]
            ],
            "type": "surface"
           }
          ],
          "table": [
           {
            "cells": {
             "fill": {
              "color": "#EBF0F8"
             },
             "line": {
              "color": "white"
             }
            },
            "header": {
             "fill": {
              "color": "#C8D4E3"
             },
             "line": {
              "color": "white"
             }
            },
            "type": "table"
           }
          ]
         },
         "layout": {
          "annotationdefaults": {
           "arrowcolor": "#2a3f5f",
           "arrowhead": 0,
           "arrowwidth": 1
          },
          "autotypenumbers": "strict",
          "coloraxis": {
           "colorbar": {
            "outlinewidth": 0,
            "ticks": ""
           }
          },
          "colorscale": {
           "diverging": [
            [
             0,
             "#8e0152"
            ],
            [
             0.1,
             "#c51b7d"
            ],
            [
             0.2,
             "#de77ae"
            ],
            [
             0.3,
             "#f1b6da"
            ],
            [
             0.4,
             "#fde0ef"
            ],
            [
             0.5,
             "#f7f7f7"
            ],
            [
             0.6,
             "#e6f5d0"
            ],
            [
             0.7,
             "#b8e186"
            ],
            [
             0.8,
             "#7fbc41"
            ],
            [
             0.9,
             "#4d9221"
            ],
            [
             1,
             "#276419"
            ]
           ],
           "sequential": [
            [
             0,
             "#0d0887"
            ],
            [
             0.1111111111111111,
             "#46039f"
            ],
            [
             0.2222222222222222,
             "#7201a8"
            ],
            [
             0.3333333333333333,
             "#9c179e"
            ],
            [
             0.4444444444444444,
             "#bd3786"
            ],
            [
             0.5555555555555556,
             "#d8576b"
            ],
            [
             0.6666666666666666,
             "#ed7953"
            ],
            [
             0.7777777777777778,
             "#fb9f3a"
            ],
            [
             0.8888888888888888,
             "#fdca26"
            ],
            [
             1,
             "#f0f921"
            ]
           ],
           "sequentialminus": [
            [
             0,
             "#0d0887"
            ],
            [
             0.1111111111111111,
             "#46039f"
            ],
            [
             0.2222222222222222,
             "#7201a8"
            ],
            [
             0.3333333333333333,
             "#9c179e"
            ],
            [
             0.4444444444444444,
             "#bd3786"
            ],
            [
             0.5555555555555556,
             "#d8576b"
            ],
            [
             0.6666666666666666,
             "#ed7953"
            ],
            [
             0.7777777777777778,
             "#fb9f3a"
            ],
            [
             0.8888888888888888,
             "#fdca26"
            ],
            [
             1,
             "#f0f921"
            ]
           ]
          },
          "colorway": [
           "#636efa",
           "#EF553B",
           "#00cc96",
           "#ab63fa",
           "#FFA15A",
           "#19d3f3",
           "#FF6692",
           "#B6E880",
           "#FF97FF",
           "#FECB52"
          ],
          "font": {
           "color": "#2a3f5f"
          },
          "geo": {
           "bgcolor": "white",
           "lakecolor": "white",
           "landcolor": "#E5ECF6",
           "showlakes": true,
           "showland": true,
           "subunitcolor": "white"
          },
          "hoverlabel": {
           "align": "left"
          },
          "hovermode": "closest",
          "mapbox": {
           "style": "light"
          },
          "paper_bgcolor": "white",
          "plot_bgcolor": "#E5ECF6",
          "polar": {
           "angularaxis": {
            "gridcolor": "white",
            "linecolor": "white",
            "ticks": ""
           },
           "bgcolor": "#E5ECF6",
           "radialaxis": {
            "gridcolor": "white",
            "linecolor": "white",
            "ticks": ""
           }
          },
          "scene": {
           "xaxis": {
            "backgroundcolor": "#E5ECF6",
            "gridcolor": "white",
            "gridwidth": 2,
            "linecolor": "white",
            "showbackground": true,
            "ticks": "",
            "zerolinecolor": "white"
           },
           "yaxis": {
            "backgroundcolor": "#E5ECF6",
            "gridcolor": "white",
            "gridwidth": 2,
            "linecolor": "white",
            "showbackground": true,
            "ticks": "",
            "zerolinecolor": "white"
           },
           "zaxis": {
            "backgroundcolor": "#E5ECF6",
            "gridcolor": "white",
            "gridwidth": 2,
            "linecolor": "white",
            "showbackground": true,
            "ticks": "",
            "zerolinecolor": "white"
           }
          },
          "shapedefaults": {
           "line": {
            "color": "#2a3f5f"
           }
          },
          "ternary": {
           "aaxis": {
            "gridcolor": "white",
            "linecolor": "white",
            "ticks": ""
           },
           "baxis": {
            "gridcolor": "white",
            "linecolor": "white",
            "ticks": ""
           },
           "bgcolor": "#E5ECF6",
           "caxis": {
            "gridcolor": "white",
            "linecolor": "white",
            "ticks": ""
           }
          },
          "title": {
           "x": 0.05
          },
          "xaxis": {
           "automargin": true,
           "gridcolor": "white",
           "linecolor": "white",
           "ticks": "",
           "title": {
            "standoff": 15
           },
           "zerolinecolor": "white",
           "zerolinewidth": 2
          },
          "yaxis": {
           "automargin": true,
           "gridcolor": "white",
           "linecolor": "white",
           "ticks": "",
           "title": {
            "standoff": 15
           },
           "zerolinecolor": "white",
           "zerolinewidth": 2
          }
         }
        }
       }
      },
      "text/html": [
       "<div>                            <div id=\"496a2695-33e3-4e81-8fbb-7839c345e108\" class=\"plotly-graph-div\" style=\"height:525px; width:100%;\"></div>            <script type=\"text/javascript\">                require([\"plotly\"], function(Plotly) {                    window.PLOTLYENV=window.PLOTLYENV || {};                                    if (document.getElementById(\"496a2695-33e3-4e81-8fbb-7839c345e108\")) {                    Plotly.newPlot(                        \"496a2695-33e3-4e81-8fbb-7839c345e108\",                        [{\"branchvalues\": \"total\", \"customdata\": [[\"5-10\"], [\"30-40\"], [\"1-5\"], [\"50+\"], [\"(?)\"], [\"(?)\"], [\"5-10\"], [\"5-10\"], [\"5-10\"], [\"20-30\"], [\"10-20\"], [\"10-20\"], [\"10-20\"], [\"30-40\"], [\"10-20\"], [\"30-40\"], [\"50+\"], [\"5-10\"], [\"1-5\"], [\"1-5\"], [\"30-40\"], [\"(?)\"], [\"50+\"], [\"1-5\"], [\"(?)\"], [\"30-40\"], [\"10-20\"], [\"20-30\"], [\"1-5\"], [\"20-30\"], [\"50+\"], [\"50+\"], [\"20-30\"], [\"50+\"], [\"30-40\"], [\"(?)\"], [\"10-20\"], [\"5-10\"], [\"(?)\"], [\"20-30\"], [\"1-5\"], [\"20-30\"]], \"domain\": {\"x\": [0.0, 1.0], \"y\": [0.0, 1.0]}, \"hovertemplate\": \"labels=%{label}<br>avg_no_of_products=%{value}<br>parent=%{parent}<br>id=%{id}<br>mean_no_prods=%{customdata[0]}<extra></extra>\", \"ids\": [\"70+/5-10\", \"40-49/30-40\", \"50-59/1-5\", \"40-49/50+\", \"40-49\", \"16-29\", \"30-39/5-10\", \"40-49/5-10\", \"50-59/5-10\", \"60-69/20-30\", \"60-69/10-20\", \"30-39/10-20\", \"50-59/10-20\", \"50-59/30-40\", \"70+/10-20\", \"16-29/30-40\", \"70+/50+\", \"60-69/5-10\", \"60-69/1-5\", \"40-49/1-5\", \"70+/30-40\", \"50-59\", \"60-69/50+\", \"16-29/1-5\", \"70+\", \"30-39/30-40\", \"40-49/10-20\", \"70+/20-30\", \"70+/1-5\", \"16-29/20-30\", \"30-39/50+\", \"50-59/50+\", \"30-39/20-30\", \"16-29/50+\", \"60-69/30-40\", \"60-69\", \"16-29/10-20\", \"16-29/5-10\", \"30-39\", \"50-59/20-30\", \"30-39/1-5\", \"40-49/20-30\"], \"labels\": [\"5-10\", \"30-40\", \"1-5\", \"50+\", \"40-49\", \"16-29\", \"5-10\", \"5-10\", \"5-10\", \"20-30\", \"10-20\", \"10-20\", \"10-20\", \"30-40\", \"10-20\", \"30-40\", \"50+\", \"5-10\", \"1-5\", \"1-5\", \"30-40\", \"50-59\", \"50+\", \"1-5\", \"70+\", \"30-40\", \"10-20\", \"20-30\", \"1-5\", \"20-30\", \"50+\", \"50+\", \"20-30\", \"50+\", \"30-40\", \"60-69\", \"10-20\", \"5-10\", \"30-39\", \"20-30\", \"1-5\", \"20-30\"], \"marker\": {\"colors\": [\"#636efa\", \"#EF553B\", \"#00cc96\", \"#ab63fa\", \"#FFA15A\", \"#FFA15A\", \"#636efa\", \"#636efa\", \"#636efa\", \"#19d3f3\", \"#FF6692\", \"#FF6692\", \"#FF6692\", \"#EF553B\", \"#FF6692\", \"#EF553B\", \"#ab63fa\", \"#636efa\", \"#00cc96\", \"#00cc96\", \"#EF553B\", \"#FFA15A\", \"#ab63fa\", \"#00cc96\", \"#FFA15A\", \"#EF553B\", \"#FF6692\", \"#19d3f3\", \"#00cc96\", \"#19d3f3\", \"#ab63fa\", \"#ab63fa\", \"#19d3f3\", \"#ab63fa\", \"#EF553B\", \"#FFA15A\", \"#FF6692\", \"#636efa\", \"#FFA15A\", \"#19d3f3\", \"#00cc96\", \"#19d3f3\"]}, \"name\": \"\", \"parents\": [\"70+\", \"40-49\", \"50-59\", \"40-49\", \"\", \"\", \"30-39\", \"40-49\", \"50-59\", \"60-69\", \"60-69\", \"30-39\", \"50-59\", \"50-59\", \"70+\", \"16-29\", \"70+\", \"60-69\", \"60-69\", \"40-49\", \"70+\", \"\", \"60-69\", \"16-29\", \"\", \"30-39\", \"40-49\", \"70+\", \"70+\", \"16-29\", \"30-39\", \"50-59\", \"30-39\", \"16-29\", \"60-69\", \"\", \"16-29\", \"16-29\", \"\", \"50-59\", \"30-39\", \"40-49\"], \"type\": \"treemap\", \"values\": [17159, 432572, 208175, 3315706, 5215137, 14933279, 270478, 276470, 260040, 106379, 128573, 498257, 495442, 413059, 26762, 1354365, 77259, 77475, 76445, 210731, 15535, 4680033, 536249, 589816, 177696, 422606, 508387, 19262, 21719, 1503216, 3783637, 2845335, 459406, 9134844, 87601, 1012722, 1574644, 776394, 5629199, 457982, 194815, 471271]}],                        {\"legend\": {\"tracegroupgap\": 0}, \"margin\": {\"b\": 25, \"l\": 25, \"r\": 25, \"t\": 50}, \"template\": {\"data\": {\"bar\": [{\"error_x\": {\"color\": \"#2a3f5f\"}, \"error_y\": {\"color\": \"#2a3f5f\"}, \"marker\": {\"line\": {\"color\": \"#E5ECF6\", \"width\": 0.5}}, \"type\": \"bar\"}], \"barpolar\": [{\"marker\": {\"line\": {\"color\": \"#E5ECF6\", \"width\": 0.5}}, \"type\": \"barpolar\"}], \"carpet\": [{\"aaxis\": {\"endlinecolor\": \"#2a3f5f\", \"gridcolor\": \"white\", \"linecolor\": \"white\", \"minorgridcolor\": \"white\", \"startlinecolor\": \"#2a3f5f\"}, \"baxis\": {\"endlinecolor\": \"#2a3f5f\", \"gridcolor\": \"white\", \"linecolor\": \"white\", \"minorgridcolor\": \"white\", \"startlinecolor\": \"#2a3f5f\"}, \"type\": \"carpet\"}], \"choropleth\": [{\"colorbar\": {\"outlinewidth\": 0, \"ticks\": \"\"}, \"type\": \"choropleth\"}], \"contour\": [{\"colorbar\": {\"outlinewidth\": 0, \"ticks\": \"\"}, \"colorscale\": [[0.0, \"#0d0887\"], [0.1111111111111111, \"#46039f\"], [0.2222222222222222, \"#7201a8\"], [0.3333333333333333, \"#9c179e\"], [0.4444444444444444, \"#bd3786\"], [0.5555555555555556, \"#d8576b\"], [0.6666666666666666, \"#ed7953\"], [0.7777777777777778, \"#fb9f3a\"], [0.8888888888888888, \"#fdca26\"], [1.0, \"#f0f921\"]], \"type\": \"contour\"}], \"contourcarpet\": [{\"colorbar\": {\"outlinewidth\": 0, \"ticks\": \"\"}, \"type\": \"contourcarpet\"}], \"heatmap\": [{\"colorbar\": {\"outlinewidth\": 0, \"ticks\": \"\"}, \"colorscale\": [[0.0, \"#0d0887\"], [0.1111111111111111, \"#46039f\"], [0.2222222222222222, \"#7201a8\"], [0.3333333333333333, \"#9c179e\"], [0.4444444444444444, \"#bd3786\"], [0.5555555555555556, \"#d8576b\"], [0.6666666666666666, \"#ed7953\"], [0.7777777777777778, \"#fb9f3a\"], [0.8888888888888888, \"#fdca26\"], [1.0, \"#f0f921\"]], \"type\": \"heatmap\"}], \"heatmapgl\": [{\"colorbar\": {\"outlinewidth\": 0, \"ticks\": \"\"}, \"colorscale\": [[0.0, \"#0d0887\"], [0.1111111111111111, \"#46039f\"], [0.2222222222222222, \"#7201a8\"], [0.3333333333333333, \"#9c179e\"], [0.4444444444444444, \"#bd3786\"], [0.5555555555555556, \"#d8576b\"], [0.6666666666666666, \"#ed7953\"], [0.7777777777777778, \"#fb9f3a\"], [0.8888888888888888, \"#fdca26\"], [1.0, \"#f0f921\"]], \"type\": \"heatmapgl\"}], \"histogram\": [{\"marker\": {\"colorbar\": {\"outlinewidth\": 0, \"ticks\": \"\"}}, \"type\": \"histogram\"}], \"histogram2d\": [{\"colorbar\": {\"outlinewidth\": 0, \"ticks\": \"\"}, \"colorscale\": [[0.0, \"#0d0887\"], [0.1111111111111111, \"#46039f\"], [0.2222222222222222, \"#7201a8\"], [0.3333333333333333, \"#9c179e\"], [0.4444444444444444, \"#bd3786\"], [0.5555555555555556, \"#d8576b\"], [0.6666666666666666, \"#ed7953\"], [0.7777777777777778, \"#fb9f3a\"], [0.8888888888888888, \"#fdca26\"], [1.0, \"#f0f921\"]], \"type\": \"histogram2d\"}], \"histogram2dcontour\": [{\"colorbar\": {\"outlinewidth\": 0, \"ticks\": \"\"}, \"colorscale\": [[0.0, \"#0d0887\"], [0.1111111111111111, \"#46039f\"], [0.2222222222222222, \"#7201a8\"], [0.3333333333333333, \"#9c179e\"], [0.4444444444444444, \"#bd3786\"], [0.5555555555555556, \"#d8576b\"], [0.6666666666666666, \"#ed7953\"], [0.7777777777777778, \"#fb9f3a\"], [0.8888888888888888, \"#fdca26\"], [1.0, \"#f0f921\"]], \"type\": \"histogram2dcontour\"}], \"mesh3d\": [{\"colorbar\": {\"outlinewidth\": 0, \"ticks\": \"\"}, \"type\": \"mesh3d\"}], \"parcoords\": [{\"line\": {\"colorbar\": {\"outlinewidth\": 0, \"ticks\": \"\"}}, \"type\": \"parcoords\"}], \"pie\": [{\"automargin\": true, \"type\": \"pie\"}], \"scatter\": [{\"marker\": {\"colorbar\": {\"outlinewidth\": 0, \"ticks\": \"\"}}, \"type\": \"scatter\"}], \"scatter3d\": [{\"line\": {\"colorbar\": {\"outlinewidth\": 0, \"ticks\": \"\"}}, \"marker\": {\"colorbar\": {\"outlinewidth\": 0, \"ticks\": \"\"}}, \"type\": \"scatter3d\"}], \"scattercarpet\": [{\"marker\": {\"colorbar\": {\"outlinewidth\": 0, \"ticks\": \"\"}}, \"type\": \"scattercarpet\"}], \"scattergeo\": [{\"marker\": {\"colorbar\": {\"outlinewidth\": 0, \"ticks\": \"\"}}, \"type\": \"scattergeo\"}], \"scattergl\": [{\"marker\": {\"colorbar\": {\"outlinewidth\": 0, \"ticks\": \"\"}}, \"type\": \"scattergl\"}], \"scattermapbox\": [{\"marker\": {\"colorbar\": {\"outlinewidth\": 0, \"ticks\": \"\"}}, \"type\": \"scattermapbox\"}], \"scatterpolar\": [{\"marker\": {\"colorbar\": {\"outlinewidth\": 0, \"ticks\": \"\"}}, \"type\": \"scatterpolar\"}], \"scatterpolargl\": [{\"marker\": {\"colorbar\": {\"outlinewidth\": 0, \"ticks\": \"\"}}, \"type\": \"scatterpolargl\"}], \"scatterternary\": [{\"marker\": {\"colorbar\": {\"outlinewidth\": 0, \"ticks\": \"\"}}, \"type\": \"scatterternary\"}], \"surface\": [{\"colorbar\": {\"outlinewidth\": 0, \"ticks\": \"\"}, \"colorscale\": [[0.0, \"#0d0887\"], [0.1111111111111111, \"#46039f\"], [0.2222222222222222, \"#7201a8\"], [0.3333333333333333, \"#9c179e\"], [0.4444444444444444, \"#bd3786\"], [0.5555555555555556, \"#d8576b\"], [0.6666666666666666, \"#ed7953\"], [0.7777777777777778, \"#fb9f3a\"], [0.8888888888888888, \"#fdca26\"], [1.0, \"#f0f921\"]], \"type\": \"surface\"}], \"table\": [{\"cells\": {\"fill\": {\"color\": \"#EBF0F8\"}, \"line\": {\"color\": \"white\"}}, \"header\": {\"fill\": {\"color\": \"#C8D4E3\"}, \"line\": {\"color\": \"white\"}}, \"type\": \"table\"}]}, \"layout\": {\"annotationdefaults\": {\"arrowcolor\": \"#2a3f5f\", \"arrowhead\": 0, \"arrowwidth\": 1}, \"autotypenumbers\": \"strict\", \"coloraxis\": {\"colorbar\": {\"outlinewidth\": 0, \"ticks\": \"\"}}, \"colorscale\": {\"diverging\": [[0, \"#8e0152\"], [0.1, \"#c51b7d\"], [0.2, \"#de77ae\"], [0.3, \"#f1b6da\"], [0.4, \"#fde0ef\"], [0.5, \"#f7f7f7\"], [0.6, \"#e6f5d0\"], [0.7, \"#b8e186\"], [0.8, \"#7fbc41\"], [0.9, \"#4d9221\"], [1, \"#276419\"]], \"sequential\": [[0.0, \"#0d0887\"], [0.1111111111111111, \"#46039f\"], [0.2222222222222222, \"#7201a8\"], [0.3333333333333333, \"#9c179e\"], [0.4444444444444444, \"#bd3786\"], [0.5555555555555556, \"#d8576b\"], [0.6666666666666666, \"#ed7953\"], [0.7777777777777778, \"#fb9f3a\"], [0.8888888888888888, \"#fdca26\"], [1.0, \"#f0f921\"]], \"sequentialminus\": [[0.0, \"#0d0887\"], [0.1111111111111111, \"#46039f\"], [0.2222222222222222, \"#7201a8\"], [0.3333333333333333, \"#9c179e\"], [0.4444444444444444, \"#bd3786\"], [0.5555555555555556, \"#d8576b\"], [0.6666666666666666, \"#ed7953\"], [0.7777777777777778, \"#fb9f3a\"], [0.8888888888888888, \"#fdca26\"], [1.0, \"#f0f921\"]]}, \"colorway\": [\"#636efa\", \"#EF553B\", \"#00cc96\", \"#ab63fa\", \"#FFA15A\", \"#19d3f3\", \"#FF6692\", \"#B6E880\", \"#FF97FF\", \"#FECB52\"], \"font\": {\"color\": \"#2a3f5f\"}, \"geo\": {\"bgcolor\": \"white\", \"lakecolor\": \"white\", \"landcolor\": \"#E5ECF6\", \"showlakes\": true, \"showland\": true, \"subunitcolor\": \"white\"}, \"hoverlabel\": {\"align\": \"left\"}, \"hovermode\": \"closest\", \"mapbox\": {\"style\": \"light\"}, \"paper_bgcolor\": \"white\", \"plot_bgcolor\": \"#E5ECF6\", \"polar\": {\"angularaxis\": {\"gridcolor\": \"white\", \"linecolor\": \"white\", \"ticks\": \"\"}, \"bgcolor\": \"#E5ECF6\", \"radialaxis\": {\"gridcolor\": \"white\", \"linecolor\": \"white\", \"ticks\": \"\"}}, \"scene\": {\"xaxis\": {\"backgroundcolor\": \"#E5ECF6\", \"gridcolor\": \"white\", \"gridwidth\": 2, \"linecolor\": \"white\", \"showbackground\": true, \"ticks\": \"\", \"zerolinecolor\": \"white\"}, \"yaxis\": {\"backgroundcolor\": \"#E5ECF6\", \"gridcolor\": \"white\", \"gridwidth\": 2, \"linecolor\": \"white\", \"showbackground\": true, \"ticks\": \"\", \"zerolinecolor\": \"white\"}, \"zaxis\": {\"backgroundcolor\": \"#E5ECF6\", \"gridcolor\": \"white\", \"gridwidth\": 2, \"linecolor\": \"white\", \"showbackground\": true, \"ticks\": \"\", \"zerolinecolor\": \"white\"}}, \"shapedefaults\": {\"line\": {\"color\": \"#2a3f5f\"}}, \"ternary\": {\"aaxis\": {\"gridcolor\": \"white\", \"linecolor\": \"white\", \"ticks\": \"\"}, \"baxis\": {\"gridcolor\": \"white\", \"linecolor\": \"white\", \"ticks\": \"\"}, \"bgcolor\": \"#E5ECF6\", \"caxis\": {\"gridcolor\": \"white\", \"linecolor\": \"white\", \"ticks\": \"\"}}, \"title\": {\"x\": 0.05}, \"xaxis\": {\"automargin\": true, \"gridcolor\": \"white\", \"linecolor\": \"white\", \"ticks\": \"\", \"title\": {\"standoff\": 15}, \"zerolinecolor\": \"white\", \"zerolinewidth\": 2}, \"yaxis\": {\"automargin\": true, \"gridcolor\": \"white\", \"linecolor\": \"white\", \"ticks\": \"\", \"title\": {\"standoff\": 15}, \"zerolinecolor\": \"white\", \"zerolinewidth\": 2}}}},                        {\"responsive\": true}                    ).then(function(){\n",
       "                            \n",
       "var gd = document.getElementById('496a2695-33e3-4e81-8fbb-7839c345e108');\n",
       "var x = new MutationObserver(function (mutations, observer) {{\n",
       "        var display = window.getComputedStyle(gd).display;\n",
       "        if (!display || display === 'none') {{\n",
       "            console.log([gd, 'removed!']);\n",
       "            Plotly.purge(gd);\n",
       "            observer.disconnect();\n",
       "        }}\n",
       "}});\n",
       "\n",
       "// Listen for the removal of the full notebook cells\n",
       "var notebookContainer = gd.closest('#notebook-container');\n",
       "if (notebookContainer) {{\n",
       "    x.observe(notebookContainer, {childList: true});\n",
       "}}\n",
       "\n",
       "// Listen for the clearing of the current output cell\n",
       "var outputEl = gd.closest('.output');\n",
       "if (outputEl) {{\n",
       "    x.observe(outputEl, {childList: true});\n",
       "}}\n",
       "\n",
       "                        })                };                });            </script>        </div>"
      ]
     },
     "metadata": {},
     "output_type": "display_data"
    }
   ],
   "source": [
    "fig = px.treemap(age_prod_merge, path=['age_range','mean_no_prods'], \n",
    "                 values='avg_no_of_products', color='mean_no_prods')\n",
    "fig.update_layout(margin = dict(t=50, l=25, r=25, b=25))\n",
    "fig.show()\n",
    "#outer rectangles represent age\n",
    "#inner rectangles represent the average number of products purchased in that particular age group"
   ]
  },
  {
   "cell_type": "code",
   "execution_count": null,
   "id": "83d24643",
   "metadata": {},
   "outputs": [],
   "source": []
  },
  {
   "cell_type": "code",
   "execution_count": null,
   "id": "d926cc53",
   "metadata": {},
   "outputs": [],
   "source": []
  },
  {
   "cell_type": "code",
   "execution_count": null,
   "id": "362c2bbe",
   "metadata": {},
   "outputs": [],
   "source": []
  },
  {
   "cell_type": "code",
   "execution_count": null,
   "id": "560c5a99",
   "metadata": {},
   "outputs": [],
   "source": []
  },
  {
   "cell_type": "code",
   "execution_count": null,
   "id": "77024aca",
   "metadata": {},
   "outputs": [],
   "source": []
  },
  {
   "cell_type": "code",
   "execution_count": null,
   "id": "303d0d51",
   "metadata": {},
   "outputs": [],
   "source": []
  },
  {
   "cell_type": "code",
   "execution_count": null,
   "id": "3fc606e5",
   "metadata": {},
   "outputs": [],
   "source": []
  },
  {
   "cell_type": "code",
   "execution_count": null,
   "id": "a1cae836",
   "metadata": {},
   "outputs": [],
   "source": []
  },
  {
   "cell_type": "code",
   "execution_count": null,
   "id": "360b1b73",
   "metadata": {},
   "outputs": [],
   "source": []
  },
  {
   "cell_type": "code",
   "execution_count": null,
   "id": "4a47a8ca",
   "metadata": {},
   "outputs": [],
   "source": []
  },
  {
   "cell_type": "code",
   "execution_count": null,
   "id": "850bf105",
   "metadata": {},
   "outputs": [],
   "source": []
  },
  {
   "cell_type": "code",
   "execution_count": null,
   "id": "5cfa961c",
   "metadata": {},
   "outputs": [],
   "source": []
  },
  {
   "cell_type": "code",
   "execution_count": null,
   "id": "c156c8af",
   "metadata": {},
   "outputs": [],
   "source": []
  },
  {
   "cell_type": "code",
   "execution_count": null,
   "id": "98a32961",
   "metadata": {},
   "outputs": [],
   "source": []
  },
  {
   "cell_type": "code",
   "execution_count": null,
   "id": "b7da806d",
   "metadata": {},
   "outputs": [],
   "source": []
  },
  {
   "cell_type": "code",
   "execution_count": null,
   "id": "9d4a4431",
   "metadata": {},
   "outputs": [],
   "source": []
  },
  {
   "cell_type": "code",
   "execution_count": null,
   "id": "144b0bb8",
   "metadata": {},
   "outputs": [],
   "source": []
  },
  {
   "cell_type": "code",
   "execution_count": null,
   "id": "c0e18602",
   "metadata": {},
   "outputs": [],
   "source": []
  },
  {
   "cell_type": "code",
   "execution_count": null,
   "id": "2735af04",
   "metadata": {},
   "outputs": [],
   "source": []
  },
  {
   "cell_type": "code",
   "execution_count": null,
   "id": "25b38bdb",
   "metadata": {},
   "outputs": [],
   "source": []
  },
  {
   "cell_type": "code",
   "execution_count": null,
   "id": "6c0954a2",
   "metadata": {},
   "outputs": [],
   "source": []
  },
  {
   "cell_type": "code",
   "execution_count": null,
   "id": "96ff1222",
   "metadata": {},
   "outputs": [],
   "source": []
  },
  {
   "cell_type": "code",
   "execution_count": null,
   "id": "b90b75f5",
   "metadata": {},
   "outputs": [],
   "source": []
  },
  {
   "cell_type": "code",
   "execution_count": null,
   "id": "d2f4f8f6",
   "metadata": {},
   "outputs": [],
   "source": []
  },
  {
   "cell_type": "code",
   "execution_count": null,
   "id": "bf7743c7",
   "metadata": {},
   "outputs": [],
   "source": []
  },
  {
   "cell_type": "code",
   "execution_count": null,
   "id": "51ee646e",
   "metadata": {},
   "outputs": [],
   "source": []
  },
  {
   "cell_type": "code",
   "execution_count": null,
   "id": "d6cc15c0",
   "metadata": {},
   "outputs": [],
   "source": []
  },
  {
   "cell_type": "code",
   "execution_count": null,
   "id": "81952ecd",
   "metadata": {},
   "outputs": [],
   "source": []
  },
  {
   "cell_type": "code",
   "execution_count": null,
   "id": "5b3a42a4",
   "metadata": {},
   "outputs": [],
   "source": []
  },
  {
   "cell_type": "code",
   "execution_count": null,
   "id": "40e40222",
   "metadata": {},
   "outputs": [],
   "source": []
  },
  {
   "cell_type": "code",
   "execution_count": null,
   "id": "b3811ad2",
   "metadata": {},
   "outputs": [],
   "source": []
  },
  {
   "cell_type": "code",
   "execution_count": null,
   "id": "e40f7fc4",
   "metadata": {},
   "outputs": [],
   "source": []
  },
  {
   "cell_type": "code",
   "execution_count": null,
   "id": "5ed75387",
   "metadata": {},
   "outputs": [],
   "source": []
  },
  {
   "cell_type": "code",
   "execution_count": null,
   "id": "21d5b675",
   "metadata": {},
   "outputs": [],
   "source": []
  },
  {
   "cell_type": "code",
   "execution_count": null,
   "id": "afc24968",
   "metadata": {},
   "outputs": [],
   "source": []
  },
  {
   "cell_type": "code",
   "execution_count": null,
   "id": "2fbb7fa6",
   "metadata": {},
   "outputs": [],
   "source": []
  },
  {
   "cell_type": "code",
   "execution_count": null,
   "id": "3056a4ce",
   "metadata": {},
   "outputs": [],
   "source": []
  },
  {
   "cell_type": "code",
   "execution_count": null,
   "id": "c2796097",
   "metadata": {},
   "outputs": [],
   "source": []
  },
  {
   "cell_type": "code",
   "execution_count": null,
   "id": "04a4efdd",
   "metadata": {},
   "outputs": [],
   "source": []
  },
  {
   "cell_type": "code",
   "execution_count": null,
   "id": "9a0086d6",
   "metadata": {},
   "outputs": [],
   "source": []
  },
  {
   "cell_type": "code",
   "execution_count": null,
   "id": "69347bb5",
   "metadata": {},
   "outputs": [],
   "source": []
  },
  {
   "cell_type": "code",
   "execution_count": null,
   "id": "379f46e1",
   "metadata": {},
   "outputs": [],
   "source": []
  },
  {
   "cell_type": "code",
   "execution_count": null,
   "id": "d420c956",
   "metadata": {},
   "outputs": [],
   "source": []
  },
  {
   "cell_type": "code",
   "execution_count": null,
   "id": "6c993d9f",
   "metadata": {},
   "outputs": [],
   "source": []
  },
  {
   "cell_type": "code",
   "execution_count": null,
   "id": "20fc837d",
   "metadata": {},
   "outputs": [],
   "source": []
  },
  {
   "cell_type": "code",
   "execution_count": null,
   "id": "bb4c8382",
   "metadata": {},
   "outputs": [],
   "source": []
  },
  {
   "cell_type": "code",
   "execution_count": null,
   "id": "df72c772",
   "metadata": {},
   "outputs": [],
   "source": []
  },
  {
   "cell_type": "code",
   "execution_count": null,
   "id": "71ea7779",
   "metadata": {},
   "outputs": [],
   "source": []
  },
  {
   "cell_type": "code",
   "execution_count": null,
   "id": "a17050a1",
   "metadata": {},
   "outputs": [],
   "source": []
  },
  {
   "cell_type": "code",
   "execution_count": null,
   "id": "22fb9b38",
   "metadata": {},
   "outputs": [],
   "source": []
  },
  {
   "cell_type": "code",
   "execution_count": null,
   "id": "b0cdcf9c",
   "metadata": {},
   "outputs": [],
   "source": []
  },
  {
   "cell_type": "code",
   "execution_count": null,
   "id": "2dac21ca",
   "metadata": {},
   "outputs": [],
   "source": []
  },
  {
   "cell_type": "code",
   "execution_count": null,
   "id": "de87820c",
   "metadata": {},
   "outputs": [],
   "source": []
  },
  {
   "cell_type": "code",
   "execution_count": null,
   "id": "1d0f0eeb",
   "metadata": {},
   "outputs": [],
   "source": []
  },
  {
   "cell_type": "code",
   "execution_count": null,
   "id": "f63169d1",
   "metadata": {},
   "outputs": [],
   "source": []
  },
  {
   "cell_type": "code",
   "execution_count": null,
   "id": "82948c31",
   "metadata": {},
   "outputs": [],
   "source": []
  },
  {
   "cell_type": "code",
   "execution_count": null,
   "id": "ca36078c",
   "metadata": {},
   "outputs": [],
   "source": []
  },
  {
   "cell_type": "code",
   "execution_count": null,
   "id": "e1b6dd29",
   "metadata": {},
   "outputs": [],
   "source": []
  },
  {
   "cell_type": "code",
   "execution_count": null,
   "id": "51ff614d",
   "metadata": {},
   "outputs": [],
   "source": []
  },
  {
   "cell_type": "code",
   "execution_count": null,
   "id": "6de17991",
   "metadata": {},
   "outputs": [],
   "source": []
  },
  {
   "cell_type": "code",
   "execution_count": null,
   "id": "673aa999",
   "metadata": {},
   "outputs": [],
   "source": []
  },
  {
   "cell_type": "code",
   "execution_count": null,
   "id": "be9f93a6",
   "metadata": {},
   "outputs": [],
   "source": []
  },
  {
   "cell_type": "code",
   "execution_count": null,
   "id": "a4fb0315",
   "metadata": {},
   "outputs": [],
   "source": []
  },
  {
   "cell_type": "code",
   "execution_count": null,
   "id": "bfa2e9fe",
   "metadata": {},
   "outputs": [],
   "source": []
  },
  {
   "cell_type": "code",
   "execution_count": null,
   "id": "9e251ceb",
   "metadata": {},
   "outputs": [],
   "source": []
  },
  {
   "cell_type": "code",
   "execution_count": null,
   "id": "a3ba0c0d",
   "metadata": {},
   "outputs": [],
   "source": []
  },
  {
   "cell_type": "code",
   "execution_count": null,
   "id": "4e408f5d",
   "metadata": {},
   "outputs": [],
   "source": []
  },
  {
   "cell_type": "code",
   "execution_count": null,
   "id": "79aa12ca",
   "metadata": {},
   "outputs": [],
   "source": []
  },
  {
   "cell_type": "code",
   "execution_count": null,
   "id": "ce1f96b6",
   "metadata": {},
   "outputs": [],
   "source": []
  },
  {
   "cell_type": "code",
   "execution_count": null,
   "id": "24c17cec",
   "metadata": {},
   "outputs": [],
   "source": []
  },
  {
   "cell_type": "code",
   "execution_count": null,
   "id": "0f510748",
   "metadata": {},
   "outputs": [],
   "source": []
  },
  {
   "cell_type": "code",
   "execution_count": null,
   "id": "9cc72644",
   "metadata": {},
   "outputs": [],
   "source": []
  },
  {
   "cell_type": "code",
   "execution_count": null,
   "id": "57c54625",
   "metadata": {},
   "outputs": [],
   "source": []
  },
  {
   "cell_type": "code",
   "execution_count": null,
   "id": "2a2a1556",
   "metadata": {},
   "outputs": [],
   "source": []
  },
  {
   "cell_type": "code",
   "execution_count": null,
   "id": "adc95cb2",
   "metadata": {},
   "outputs": [],
   "source": []
  },
  {
   "cell_type": "code",
   "execution_count": null,
   "id": "2188e3d4",
   "metadata": {},
   "outputs": [],
   "source": []
  },
  {
   "cell_type": "code",
   "execution_count": null,
   "id": "d6ca05a2",
   "metadata": {},
   "outputs": [],
   "source": []
  },
  {
   "cell_type": "code",
   "execution_count": null,
   "id": "49c08b57",
   "metadata": {},
   "outputs": [],
   "source": []
  },
  {
   "cell_type": "code",
   "execution_count": null,
   "id": "cb2e5b8f",
   "metadata": {},
   "outputs": [],
   "source": []
  },
  {
   "cell_type": "code",
   "execution_count": null,
   "id": "a1a89da0",
   "metadata": {},
   "outputs": [],
   "source": []
  },
  {
   "cell_type": "code",
   "execution_count": null,
   "id": "7f568447",
   "metadata": {},
   "outputs": [],
   "source": []
  },
  {
   "cell_type": "code",
   "execution_count": null,
   "id": "86107ea7",
   "metadata": {},
   "outputs": [],
   "source": []
  },
  {
   "cell_type": "code",
   "execution_count": null,
   "id": "f3b4b76c",
   "metadata": {},
   "outputs": [],
   "source": []
  },
  {
   "cell_type": "code",
   "execution_count": null,
   "id": "de1fa440",
   "metadata": {},
   "outputs": [],
   "source": []
  }
 ],
 "metadata": {
  "kernelspec": {
   "display_name": "Python 3",
   "language": "python",
   "name": "python3"
  },
  "language_info": {
   "codemirror_mode": {
    "name": "ipython",
    "version": 3
   },
   "file_extension": ".py",
   "mimetype": "text/x-python",
   "name": "python",
   "nbconvert_exporter": "python",
   "pygments_lexer": "ipython3",
   "version": "3.8.8"
  }
 },
 "nbformat": 4,
 "nbformat_minor": 5
}
